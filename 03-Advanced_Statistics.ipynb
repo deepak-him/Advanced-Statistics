{
 "cells": [
  {
   "cell_type": "markdown",
   "id": "37a16fdd",
   "metadata": {},
   "source": [
    "# <b>Advanced Statistics</b>"
   ]
  },
  {
   "cell_type": "markdown",
   "id": "037e5b81",
   "metadata": {},
   "source": [
    "* Distribution with its types\n",
    "* Skewness and Kurtosis\n",
    "* Student’s T-Distribution\n",
    "* Hypothesis Testing and Mechanism\n",
    "* Null and Alternative Hypotheses\n",
    "* Confidence Interval\n",
    "* Margin of Error\n",
    "* Confidence Levels\n",
    "* Comparing and Contrasting T-Test and Z-Test\n",
    "* Bayes’ Theorem\n",
    "* Chi-square Distribution\n",
    "* Analysis of Variance or ANOVA\n",
    "* Types of ANOVA\n",
    "* Partition of Variance\n",
    "* F-Distribution\n"
   ]
  },
  {
   "cell_type": "markdown",
   "id": "36f477e8",
   "metadata": {},
   "source": [
    "# <b> What Is Distribution? </b>"
   ]
  },
  {
   "cell_type": "markdown",
   "id": "5625fbe7",
   "metadata": {},
   "source": [
    "The probability distribution function is a statistical distribution function that describes all possible and likely \n",
    "values that a random variable can assume in a given range. The possible values of this distribution function are \n",
    "determined by factors like mean, standard deviation, skewness, and kurtosis. \n",
    "\n",
    "The below screenshot represents a typical probability distribution:\n"
   ]
  },
  {
   "cell_type": "markdown",
   "id": "4c1c8d1b",
   "metadata": {},
   "source": [
    "![Distribution.png](images/Distribution.png)"
   ]
  },
  {
   "cell_type": "markdown",
   "id": "17a6bd7d",
   "metadata": {},
   "source": [
    "# Types of Probability Distribution\n"
   ]
  },
  {
   "cell_type": "markdown",
   "id": "9817e179",
   "metadata": {},
   "source": [
    "The probability distribution can be classified into different types:"
   ]
  },
  {
   "cell_type": "markdown",
   "id": "ed6d3dd1",
   "metadata": {},
   "source": [
    "* Normal Distribution\n",
    "* Binomial Distribution\n",
    "* Chi-square Distribution\n",
    "* Poisson Distribution\n"
   ]
  },
  {
   "cell_type": "markdown",
   "id": "1dd00fff",
   "metadata": {},
   "source": [
    "<b> Note:</b> Normal Distribution is the most commonly used distribution. It is used in almost every field like \n",
    "    finance, science, and engineering. "
   ]
  },
  {
   "cell_type": "markdown",
   "id": "6858c037",
   "metadata": {},
   "source": [
    "## Normal Distribution"
   ]
  },
  {
   "cell_type": "markdown",
   "id": "62bd417b",
   "metadata": {},
   "source": [
    "Normal Distribution, also known as Gaussian Distribution, is a probability distribution that is characterized \n",
    "by symmetry about the mean. That is, the frequency of the possibility of data occurring in and around the mean is \n",
    "higher than ends of the distribution. A normal distribution typically resembles a bell and is often referred to as \n",
    "a Bell Curve."
   ]
  },
  {
   "cell_type": "markdown",
   "id": "90dc326d",
   "metadata": {},
   "source": [
    "![Normal_Dist.png](images/Normal_Dist.png)"
   ]
  },
  {
   "cell_type": "markdown",
   "id": "f7a1a30d",
   "metadata": {},
   "source": [
    "## Skewness and Kurtosis \n"
   ]
  },
  {
   "cell_type": "markdown",
   "id": "0017b29b",
   "metadata": {},
   "source": [
    "In real-life data is never distributed normally, even though such a distribution is called a normal distribution. \n",
    "Skewness and kurtosis are the two main parameters that affect the bell shape of the curve.\n",
    "If the bell curve shifts towards its left or towards its right, it is called ‘skewed’. Skewness is represented by a\n",
    "numerical value that is either negative or positive. \n",
    " \n",
    "If the distribution has a positive skewness, then the curve will appear shifted towards the left of its bell peak,\n",
    "as shown below: \n"
   ]
  },
  {
   "cell_type": "markdown",
   "id": "c57f5a06",
   "metadata": {},
   "source": [
    "![Positiveskew.png](images/Positiveskew.png)"
   ]
  },
  {
   "cell_type": "markdown",
   "id": "bbf07491",
   "metadata": {},
   "source": [
    "On the other hand, if the distribution has a negative skewness, then the curve will appear shifted towards the right\n",
    "of the bell peak, as shown below: "
   ]
  },
  {
   "cell_type": "markdown",
   "id": "a85d0ef6",
   "metadata": {},
   "source": [
    "![Negativeskew.png](images/Negativeskew.png)"
   ]
  },
  {
   "cell_type": "markdown",
   "id": "102131ed",
   "metadata": {},
   "source": [
    "A normal distribution is superimposed with a positive Kurtosis and a distribution with a negative Kurtosis. \n",
    "A distribution with a positive Kurtosis will be narrower and taller around the mean with a flat tail, while a \n",
    "distribution with a negative Kurtosis will be flatter and shorter around the mean, but with a thicker distribution \n",
    "around the tails. "
   ]
  },
  {
   "cell_type": "markdown",
   "id": "39293ff5",
   "metadata": {},
   "source": [
    "![kurtosis.png](images/kurtosis.png)"
   ]
  },
  {
   "cell_type": "markdown",
   "id": "36b64472",
   "metadata": {},
   "source": [
    "# What Is Student’s T-Distribution? "
   ]
  },
  {
   "cell_type": "markdown",
   "id": "c1d061a9",
   "metadata": {},
   "source": [
    "A Student’s T-Distribution, also known as T-Distribution, is similar to a normal distribution like a bell curve but\n",
    "differs in that it has a thicker tail. Technically, Student’s T-Distributions have a greater chance for extreme values\n",
    "than normal distributions, which is indicated by their flatter tails, as shown below: "
   ]
  },
  {
   "cell_type": "markdown",
   "id": "858d70df",
   "metadata": {},
   "source": [
    "![StudentT.png](images/StudentT.png)"
   ]
  },
  {
   "cell_type": "markdown",
   "id": "7042b730",
   "metadata": {},
   "source": [
    "\n",
    "The tail in a normal distribution qualifies its classification as a Student’s T-Distribution. Technically, a Student’s \n",
    "T-Distribution is characterized by a parameter called degrees of freedom (images/or DOF), a mean of 0, and a standard deviation\n",
    "of 1. \n"
   ]
  },
  {
   "cell_type": "markdown",
   "id": "1de9882e",
   "metadata": {},
   "source": [
    "# Hypothesis Testing and Mechanism "
   ]
  },
  {
   "cell_type": "markdown",
   "id": "c1b75f09",
   "metadata": {},
   "source": [
    "## Introduction "
   ]
  },
  {
   "cell_type": "markdown",
   "id": "2c4ad8b0",
   "metadata": {},
   "source": [
    "A hypothesis is a statement that introduces both a question and proposes an answer. It involves careful experimentation,\n",
    "correct sampling, data collection, analysis, and repetition for reproducibility under various conditions. \n",
    " \n"
   ]
  },
  {
   "cell_type": "markdown",
   "id": "1b92f1a1",
   "metadata": {},
   "source": [
    "![involves.PNG](images/involves.PNG)"
   ]
  },
  {
   "cell_type": "markdown",
   "id": "34702c48",
   "metadata": {},
   "source": [
    "## Hypothesis Components"
   ]
  },
  {
   "cell_type": "markdown",
   "id": "a7807358",
   "metadata": {},
   "source": [
    "A hypothesis has two components:\n",
    "    \n",
    "![Linear1hypothes.png](images/Linear1hypothes.png)\n",
    "\n",
    "\n",
    " \n"
   ]
  },
  {
   "cell_type": "markdown",
   "id": "bc363dcc",
   "metadata": {},
   "source": [
    "# The independent variable affects or causes an action on the dependent variable. "
   ]
  },
  {
   "cell_type": "markdown",
   "id": "1b1a77c7",
   "metadata": {},
   "source": [
    "### Example:"
   ]
  },
  {
   "cell_type": "markdown",
   "id": "9830f692",
   "metadata": {},
   "source": [
    "‘If you don’t clean tank water once every third day, it is possible that the fish won’t survive for more than 3 months.’ \n",
    " \n",
    "The phrase ‘don't clean tank water once every third day’ is the independent variable and ‘fish won’t survive for more\n",
    "than 3 months’ is the dependent variable. \n",
    " \n",
    "Some of the components included in the proposition and expression of hypotheses are: \n",
    "\n"
   ]
  },
  {
   "cell_type": "markdown",
   "id": "69eb262f",
   "metadata": {},
   "source": [
    "![next.PNG](images/next.PNG)"
   ]
  },
  {
   "cell_type": "markdown",
   "id": "93625c0e",
   "metadata": {},
   "source": [
    "\n",
    "    \n",
    "\n",
    "\n",
    "\n",
    "A good hypothesis must: \n",
    "\n",
    "![3.PNG](images/3.PNG)\n",
    " \n",
    "\n",
    " \n",
    " \n",
    " \n",
    "\n",
    "\n",
    "\n",
    "\n"
   ]
  },
  {
   "cell_type": "markdown",
   "id": "fbe0b7b3",
   "metadata": {},
   "source": [
    "# Hypothesis Testing "
   ]
  },
  {
   "cell_type": "markdown",
   "id": "9b3ffc20",
   "metadata": {},
   "source": [
    "\n",
    "Hypothesis testing is a verification of the plausibility of a hypothesis using ‘sample data’. A sample data may come \n",
    "from a larger population of data, or even from data-generating experimentation. \n",
    " \n",
    "A statistical analyst tests a hypothesis by measuring a random set of sample data from the population being analyzed. \n",
    " \n",
    "A hypothesis test always involves four steps. These are:\n",
    "\n",
    "\n",
    "\n",
    "<b> 1. State the hypotheses:</b>A statement of the correctness of the two hypotheses (images/null or alternative)\n",
    "\n",
    "<b> 2. Set the criteria for a decision:</b> A plan that outlines how to evaluate data \n",
    "\n",
    "\n",
    "<b> 3. Compute sample statistics:</b> Execution of the plan to physically carry out the analysis\n",
    " \n",
    "<b> 4. Make a decision:</b> Analysis of the result that rejects the null hypothesis or states that the null hypothesis \n",
    "    is plausible \n"
   ]
  },
  {
   "cell_type": "markdown",
   "id": "1ae1eb3d",
   "metadata": {},
   "source": [
    "## Hypothesis Testing Outcomes: Type I and Type II Errors \n"
   ]
  },
  {
   "cell_type": "markdown",
   "id": "084eb67d",
   "metadata": {},
   "source": [
    "There are four decisions and outcomes of hypothesis testing: \n",
    "\n",
    "![type12.PNG](images/type12.PNG)\n",
    "\n",
    "\n",
    "1. H0 (images/Null Hypothesis) is TRUE and it is rejected\n",
    "\n",
    "2. H0 (images/Null Hypothesis) is TRUE and it is accepted\n",
    "\n",
    "3. H0 (images/Null Hypothesis) is FALSE and it is rejected\n",
    "\n",
    "4. H0 (images/Null Hypothesis) is FALSE and it is accepted\n",
    " \n",
    "The first and fourth outcomes are incorrect inferences and are referred to as type I errors. \n",
    "\n",
    "The second and third are correct inferences and are referred to as type II errors.\n",
    "\n",
    "The probability of the occurrence of type I errors is denoted by Alpha and the probability of type II errors is denoted \n",
    "by Beta. \n",
    "\n",
    "The two values of Alpha and Beta cannot be zero simultaneously when inferences are based on samples. However, it can be\n",
    "achieved with complete enumeration. If one of them is set to zero, the other becomes one. Having said that, this does not\n",
    "imply that alpha and beta are equal to one. Hence, Alpha and Beta are assigned low values. In most situations, the value \n",
    "of Alpha is set at 0.05 or 0.01, and large sample sizes are used so that Beta also has a low value. \n",
    " \n",
    "\n"
   ]
  },
  {
   "cell_type": "markdown",
   "id": "d9b6422f",
   "metadata": {},
   "source": [
    "The selected value of Alpha is known as the level of significance. \n",
    "![valueofalpha.PNG](images/valueofalpha.PNG)\n",
    "\n",
    " "
   ]
  },
  {
   "cell_type": "markdown",
   "id": "a0f5e0d7",
   "metadata": {},
   "source": [
    "For example, when Alpha is equal to 0.05, the level of significance is five percent.  \n",
    "\n",
    "That was a simple and effective way to estimate the outcomes of hypothesis testing. "
   ]
  },
  {
   "cell_type": "markdown",
   "id": "a9452309",
   "metadata": {},
   "source": [
    "# Null and Alternative Hypotheses "
   ]
  },
  {
   "cell_type": "markdown",
   "id": "8507dcfd",
   "metadata": {},
   "source": [
    "There are two types of hypotheses:\n",
    "\n",
    "1. Null hypothesis (images/H0)\n",
    "\n",
    "2. Alternative hypothesis (images/H1)\n",
    "\n"
   ]
  },
  {
   "cell_type": "markdown",
   "id": "ba9b4357",
   "metadata": {},
   "source": [
    "### Example 1:"
   ]
  },
  {
   "cell_type": "markdown",
   "id": "0cd8979e",
   "metadata": {},
   "source": [
    "<b> Sales Promotion Drive</b>\n",
    "\n",
    "According to the hypothesis, the sales promotion drive will increase the average monthly sales (images/µ) by 500 units. \n",
    " \n",
    "According to the null hypothesis (images/H0), the sales promotion drive has an insignificant impact on the average monthly sales.\n",
    "The historical average (images/µ0 ) holds µ = images/µ0 \n",
    "\n",
    "![nullhypotheses.PNG](images/nullhypotheses.PNG)\n",
    "\n",
    "According to the alternative hypothesis (images/H1), the sales promotion drive has a significant impact on the average monthly \n",
    "sales. Thus, µ > µ0 \n"
   ]
  },
  {
   "cell_type": "markdown",
   "id": "4f15d049",
   "metadata": {},
   "source": [
    "![alternate.PNG](images/alternate.PNG)"
   ]
  },
  {
   "cell_type": "markdown",
   "id": "16727386",
   "metadata": {},
   "source": [
    "### Example 2:"
   ]
  },
  {
   "cell_type": "markdown",
   "id": "3554b761",
   "metadata": {},
   "source": [
    "<b>Hourly Output of Two Machines</b>\n",
    "\n",
    "The null hypothesis is that the average hourly output of machine A (images/µ1) differs insignificantly from machine B (images/µ2). \n",
    "So, µ1 = µ2  \n",
    "\n",
    "![example2_part1.PNG](images/example2_part1.PNG)\n",
    "\n",
    "The alternative hypothesis is that the average hourly output of machine A (images/µ1) is significantly larger than that of \n",
    "machine B (images/µ2). So, µ1 > images/µ2 \n",
    "\n",
    " \n"
   ]
  },
  {
   "cell_type": "markdown",
   "id": "f8dfc4ac",
   "metadata": {},
   "source": [
    "![example2_part2.PNG](images/example2_alternate.PNG)\n"
   ]
  },
  {
   "cell_type": "markdown",
   "id": "d7ceaf4b",
   "metadata": {},
   "source": [
    "Generally, a null hypothesis is the negation of the assertion, while an alternative hypothesis is an assertion itself."
   ]
  },
  {
   "cell_type": "markdown",
   "id": "05106410",
   "metadata": {},
   "source": [
    "# Steps Involved in Hypothesis Testing\n",
    "\n"
   ]
  },
  {
   "cell_type": "markdown",
   "id": "a7f479a1",
   "metadata": {},
   "source": [
    "1. Create a null hypothesis and the alternate hypothesis\n",
    "\n",
    "2. Decide a level of significance i.e. alpha = 5% or 1% \n",
    "\n",
    "3. Choose the type of test you want to perform as per the sample data (images/z test, t test, chi squared etc.)\n",
    "\n",
    "4. Calculate the test statistics (images/z-score, t-score etc.) using the respective formula of test chosen\n",
    "\n",
    "5. Obtain the critical value in the sampling distribution to construct the rejection region of size alpha using z-table,\n",
    "   t-table, chi table etc.\n",
    "\n",
    "6. Compare the test statistics with the critical value and locate the position of the calculated test statistics \n",
    "   i.e. is it in rejection region or non-rejection region.\n",
    "\n",
    "7. *a.* If the critical value lies in the rejection region, we will reject the hypothesis i.e. sample data provides \n",
    "   sufficient evidence against the null hypothesis and there is significant difference between hypothesized value \n",
    "   and observed value of the parameter.\n",
    " \n",
    "    *b.* If the critical value lies in the non- rejection region, we will not reject the hypothesis i.e. sample data \n",
    "    does not provide sufficient evidence against the null hypothesis and the difference between hypothesized value and \n",
    "    observed value of the parameter is due to fluctuation of the sample.\n"
   ]
  },
  {
   "cell_type": "markdown",
   "id": "0a200f37",
   "metadata": {},
   "source": [
    "# Confidence Interval "
   ]
  },
  {
   "cell_type": "markdown",
   "id": "607dfaff",
   "metadata": {},
   "source": [
    "A Confidence Interval (images/CI) generally indicates the amount of uncertainty in any distribution. It is usually expressed \n",
    "as a number or a set or pair of numbers, and it can even be computed for a given distribution statistic. \n",
    "\n",
    "CI is the probability that a particular population parameter will fall between a set of values for a certain period. \n",
    " \n",
    "CIs can take any number of probability limits, the most common being 95%, and in some cases even 99%. When the behavior\n",
    "of a population is not known, then it is required to deduce the confidence intervals based on the sample data, using \n",
    "statistical methods like a T-Test. \n",
    " \n",
    "A confidence interval is essentially a range of values that bind the statistic's mean value, which could in turn contain \n",
    "an unknown population parameter. \n",
    "\n",
    "<b>A typical confidence interval in a statistical distribution is as shown below: </b>\n"
   ]
  },
  {
   "cell_type": "markdown",
   "id": "64ea5419",
   "metadata": {},
   "source": [
    "![CI.png](images/CI.png)"
   ]
  },
  {
   "cell_type": "markdown",
   "id": "6a6c1a28",
   "metadata": {},
   "source": [
    "As we can see, CIs are essentially numbers, consisting of an upper limit and a lower limit. On either side of \n",
    "the distribution, these are marked."
   ]
  },
  {
   "cell_type": "markdown",
   "id": "2680fb2e",
   "metadata": {},
   "source": [
    "### For example: "
   ]
  },
  {
   "cell_type": "markdown",
   "id": "245dd8ad",
   "metadata": {},
   "source": [
    "Survey a group of car owners to see how many gallons of gas they fill in the car in a year. Next, test the statistic \n",
    "at a 95% Confidence Level and get a Confidence Interval of (images/200, 450). This indicates that car owners buy anywhere \n",
    "between 200 and 450 gallons of gas a year.\n",
    " \n"
   ]
  },
  {
   "cell_type": "markdown",
   "id": "b69a5aad",
   "metadata": {},
   "source": [
    "# Margin of Error "
   ]
  },
  {
   "cell_type": "markdown",
   "id": "cd628d5f",
   "metadata": {},
   "source": [
    "\n",
    "The Margin of Error (images/MoE) indicates by how many percentage points the results will differ from the real population value.\n",
    "\n",
    "<b>Consider the following statement:</b>\n",
    "\n",
    "A 95% confidence level with a 3% margin of error implies that the statistic distribution data is within 3% points \n",
    "of the real population value with 95% of the time. \n",
    "\n",
    "The MoE is thus an important part of the confidence interval, without which one can’t accept the inference from \n",
    "statistical analysis. The lower the margin of error, the better the acceptability of the population statistic. \n",
    "MoE is popularly used in pool and election surveys. A pool survey MoE must be scrutinized before accepting the\n",
    "Confidence Interval.\n"
   ]
  },
  {
   "cell_type": "markdown",
   "id": "e84a39f6",
   "metadata": {},
   "source": [
    "<b>For Example:</b>"
   ]
  },
  {
   "cell_type": "markdown",
   "id": "7d16a0e9",
   "metadata": {},
   "source": [
    "Consider the Gallup poll survey conducted in the 2012 US Presidential elections. The survey indicated 49% voting in \n",
    "favor of Mitt Romney, and 47% in favor of Barack Obama, with 95% CI and +/- 2% MoE. However, Barack Obama polled 51%, \n",
    "while Mitt Romney got 47% in the actual election. The results were even outside the range of the Gallup poll’s \n",
    "MoE of +/-2%. This illustrates the need for statistics while taking CI, CL, and MoE into consideration."
   ]
  },
  {
   "cell_type": "markdown",
   "id": "23941b40",
   "metadata": {},
   "source": [
    "# Confidence Levels "
   ]
  },
  {
   "cell_type": "markdown",
   "id": "d53c4e7d",
   "metadata": {},
   "source": [
    "A confidence level is the percentage of probability, or certainty, that the confidence interval would contain the \n",
    "true population parameter, when a random sample is drawn repeatedly.\n",
    " \n",
    "In statistics, confidence levels are expressed as a percentage (images/for example, as 99%, 95% or 80% confidence level).\n",
    "However, for the purpose of supporting or disposing of the null hypothesis, scientists, and engineers usually work with \n",
    "a level of 95% or more. On the other hand, most governmental organizations and departments use 90% as the limit for \n",
    "Confidence Level. \n",
    "\n",
    "<b>A graphical representation of a Confidence Level of 95% is shown below: </b>\n"
   ]
  },
  {
   "cell_type": "markdown",
   "id": "b1723d03",
   "metadata": {},
   "source": [
    "![ConfidenceLevel.png](images/ConfidenceLevel.png)"
   ]
  },
  {
   "cell_type": "markdown",
   "id": "b2eb8fcf",
   "metadata": {},
   "source": [
    "A confidence level of 95% means when the experiment is repeated (images/or the poll survey conducted repeatedly), the survey \n",
    "results will match the results from a population 95% of the time. Confidence levels for different fields are different \n",
    "and are usually adopted in consultation with domain experts. This is done to ensure that the prediction from the \n",
    "statistic is reliable. "
   ]
  },
  {
   "cell_type": "markdown",
   "id": "344fb045",
   "metadata": {},
   "source": [
    "# Comparing and Contrasting T-Test and Z-Test \n",
    " \n"
   ]
  },
  {
   "cell_type": "markdown",
   "id": "776805da",
   "metadata": {},
   "source": [
    "# T-Test"
   ]
  },
  {
   "cell_type": "markdown",
   "id": "e53684b6",
   "metadata": {},
   "source": [
    "\n",
    "\n",
    "T-Test is a way of testing a hypothesis. They are chosen when: \n",
    " \n",
    "* The population variance is unknown \n",
    "* The sample size is comparatively small (images/n < 30) \n",
    " \n",
    "T-Test is either a one-sample or two-sample test. In a one-sample T-Test, standard deviation of the sample is used \n",
    "instead of population standard deviation. Similarly, we perform a two-sample test for comparing the means of two samples. \n",
    " \n",
    "<b>For a one-sample T-Test, the formula is: </b>\n"
   ]
  },
  {
   "cell_type": "markdown",
   "id": "89b70e57",
   "metadata": {},
   "source": [
    "![Ttest.png](images/Ttest.png)"
   ]
  },
  {
   "cell_type": "markdown",
   "id": "0cad6372",
   "metadata": {},
   "source": [
    "\n",
    "Where x̄ is the sample mean, s is the standard deviation of the sample, μ is the mean of the population and n is \n",
    "the sample size. \n",
    " \n",
    "<b>For a two-sample test, the formula is:</b> "
   ]
  },
  {
   "cell_type": "markdown",
   "id": "3764ee18",
   "metadata": {},
   "source": [
    "![ttest2sample.png](images/ttest2sample.png)"
   ]
  },
  {
   "cell_type": "markdown",
   "id": "e54be902",
   "metadata": {},
   "source": [
    "# P-Value"
   ]
  },
  {
   "cell_type": "markdown",
   "id": "3369ae32",
   "metadata": {},
   "source": [
    "P-Value is the smallest level of significance at which a null hypothesis can be rejected. Today, many tests gives a \n",
    "P-Value since it provides more information than the critical value and is therefore recommended.\n",
    "\n",
    "\n",
    "**For right-tailed test:**\n",
    "    \n",
    "P-Value = P[Test statistics >= observed value of the test statistic]\n",
    "\n",
    "**For left-tailed test:**\n",
    "\n",
    "P-Value = P[Test statistics <= observed value of the test statistic]\n",
    "\n",
    "**For two-tailed test:**\n",
    "\n",
    "P-Value = 2 * P[Test statistics >= |observed value of the test statistic|]\n"
   ]
  },
  {
   "cell_type": "markdown",
   "id": "de230739",
   "metadata": {},
   "source": [
    "# Decision Making Using  P-Value"
   ]
  },
  {
   "cell_type": "markdown",
   "id": "2682f847",
   "metadata": {},
   "source": [
    "The p-value is compared to the significance level(images/alpha) for decision making on null hypothesi"
   ]
  },
  {
   "cell_type": "markdown",
   "id": "03499e8f",
   "metadata": {},
   "source": [
    "1. If P-Value is greater than alpha, we do not reject the null hypothesis.\n",
    "\n",
    "\n",
    "\n",
    "2. If P-Value is smaller than alpha, we reject the null hypothesis."
   ]
  },
  {
   "cell_type": "markdown",
   "id": "bc3bbc05",
   "metadata": {},
   "source": [
    "# One-Sample T-Test: Example"
   ]
  },
  {
   "cell_type": "markdown",
   "id": "98e4f10e",
   "metadata": {},
   "source": [
    "For a particular organization, the average age of the employees was claimed 30 years.\n",
    "The authorities collected a random sample of 10 employees' age data to check the claim made by the organization.\n",
    "Construct a hypothesis test to validate the hypothesis at a significance level of 0.05."
   ]
  },
  {
   "cell_type": "markdown",
   "id": "81881737",
   "metadata": {},
   "source": [
    "Ho = mean = 30\n",
    "\n",
    "Ha = mean $\\neq$ 30"
   ]
  },
  {
   "cell_type": "code",
   "execution_count": 1,
   "id": "fee7c1d8",
   "metadata": {},
   "outputs": [
    {
     "name": "stdout",
     "output_type": "stream",
     "text": [
      "ages    43.75\n",
      "dtype: float64\n",
      "p-values [0.01012962]\n",
      " we are rejecting null hypothesis\n"
     ]
    },
    {
     "name": "stderr",
     "output_type": "stream",
     "text": [
      "/Users/abhilashchauhan/miniforge3/lib/python3.9/site-packages/numpy/core/fromnumeric.py:3438: FutureWarning: In a future version, DataFrame.mean(axis=None) will return a scalar mean over the entire DataFrame. To retain the old behavior, use 'frame.mean(axis=0)' or just 'frame.mean()'\n",
      "  return mean(axis=axis, dtype=dtype, out=out, **kwargs)\n"
     ]
    }
   ],
   "source": [
    "# Import the Ages.csv dataset\n",
    "from scipy.stats import ttest_1samp\n",
    "import pandas as pd\n",
    "import numpy as np\n",
    "ages = pd.read_csv(\"Datasets/Ages.csv\")\n",
    "ages_mean = np.mean(ages)\n",
    "print(ages_mean)\n",
    "tset, pval = ttest_1samp(ages, 30)\n",
    "print(\"p-values\",pval)\n",
    "if pval < 0.05:    # alpha value is 0.05 or 5%\n",
    "   print(\" we are rejecting null hypothesis\")\n",
    "else:\n",
    "   print(\"we are accepting null hypothesis\")"
   ]
  },
  {
   "cell_type": "markdown",
   "id": "7174c220",
   "metadata": {},
   "source": [
    "# Paired Sample T-Test: Example"
   ]
  },
  {
   "cell_type": "markdown",
   "id": "d9864bbb",
   "metadata": {},
   "source": [
    "For a particular hospital, it is advertised that a particular chemotherapy session does not affect the patient's health \n",
    "based on blood pressure.\n",
    "\n",
    "It is to be checked if the blood pressure before the treatment is equivalent to the BP after the treatment.\n",
    "\n",
    "Perform a statistical significance at alha=0.05 to help validate the claim."
   ]
  },
  {
   "cell_type": "markdown",
   "id": "abf601e9",
   "metadata": {},
   "source": [
    "$H_0$ = mean difference between two sample is 0\n",
    "\n",
    "$H_1$ = mean difference between two sample is not 0"
   ]
  },
  {
   "cell_type": "code",
   "execution_count": 2,
   "id": "56cb59ed",
   "metadata": {},
   "outputs": [
    {
     "data": {
      "text/html": [
       "<div>\n",
       "<style scoped>\n",
       "    .dataframe tbody tr th:only-of-type {\n",
       "        vertical-align: middle;\n",
       "    }\n",
       "\n",
       "    .dataframe tbody tr th {\n",
       "        vertical-align: top;\n",
       "    }\n",
       "\n",
       "    .dataframe thead th {\n",
       "        text-align: right;\n",
       "    }\n",
       "</style>\n",
       "<table border=\"1\" class=\"dataframe\">\n",
       "  <thead>\n",
       "    <tr style=\"text-align: right;\">\n",
       "      <th></th>\n",
       "      <th>patient</th>\n",
       "      <th>sex</th>\n",
       "      <th>agegrp</th>\n",
       "      <th>bp_before</th>\n",
       "      <th>bp_after</th>\n",
       "    </tr>\n",
       "  </thead>\n",
       "  <tbody>\n",
       "    <tr>\n",
       "      <th>0</th>\n",
       "      <td>1</td>\n",
       "      <td>Male</td>\n",
       "      <td>30-45</td>\n",
       "      <td>143</td>\n",
       "      <td>153</td>\n",
       "    </tr>\n",
       "    <tr>\n",
       "      <th>1</th>\n",
       "      <td>2</td>\n",
       "      <td>Male</td>\n",
       "      <td>30-45</td>\n",
       "      <td>163</td>\n",
       "      <td>170</td>\n",
       "    </tr>\n",
       "    <tr>\n",
       "      <th>2</th>\n",
       "      <td>3</td>\n",
       "      <td>Male</td>\n",
       "      <td>30-45</td>\n",
       "      <td>153</td>\n",
       "      <td>168</td>\n",
       "    </tr>\n",
       "    <tr>\n",
       "      <th>3</th>\n",
       "      <td>4</td>\n",
       "      <td>Male</td>\n",
       "      <td>30-45</td>\n",
       "      <td>153</td>\n",
       "      <td>142</td>\n",
       "    </tr>\n",
       "    <tr>\n",
       "      <th>4</th>\n",
       "      <td>5</td>\n",
       "      <td>Male</td>\n",
       "      <td>30-45</td>\n",
       "      <td>146</td>\n",
       "      <td>141</td>\n",
       "    </tr>\n",
       "  </tbody>\n",
       "</table>\n",
       "</div>"
      ],
      "text/plain": [
       "   patient   sex agegrp  bp_before  bp_after\n",
       "0        1  Male  30-45        143       153\n",
       "1        2  Male  30-45        163       170\n",
       "2        3  Male  30-45        153       168\n",
       "3        4  Male  30-45        153       142\n",
       "4        5  Male  30-45        146       141"
      ]
     },
     "execution_count": 2,
     "metadata": {},
     "output_type": "execute_result"
    }
   ],
   "source": [
    "import pandas as pd\n",
    "from scipy import stats\n",
    "df = pd.read_csv(\"Datasets/blood_pressure.csv\")\n",
    "df.head()"
   ]
  },
  {
   "cell_type": "code",
   "execution_count": 1,
   "id": "2ee3006c",
   "metadata": {},
   "outputs": [],
   "source": [
    "from scipy import stats\n"
   ]
  },
  {
   "cell_type": "code",
   "execution_count": 3,
   "id": "2812b657",
   "metadata": {},
   "outputs": [
    {
     "name": "stdout",
     "output_type": "stream",
     "text": [
      "0.0011297914644840823\n",
      "reject null hypothesis\n"
     ]
    }
   ],
   "source": [
    "df[['bp_before','bp_after']].describe()\n",
    "ttest,pval = stats.ttest_rel(df['bp_before'], df['bp_after'])\n",
    "print(pval)\n",
    "if pval<0.05:\n",
    "    print(\"reject null hypothesis\")\n",
    "else:\n",
    "    print(\"accept null hypothesis\")"
   ]
  },
  {
   "cell_type": "markdown",
   "id": "2d6a2396",
   "metadata": {},
   "source": [
    "# Z-Test "
   ]
  },
  {
   "cell_type": "markdown",
   "id": "6062d395",
   "metadata": {},
   "source": [
    "\n",
    "\n",
    "Z-Test is also a way of testing a hypothesis. They are chosen when: \n",
    " \n",
    "* The population variance is known\n",
    "\n",
    "* The population variance is unknown, but the sample size is comparatively large (images/n ≥ 30)\n",
    " \n",
    " \n",
    "Z-Test is either one-sample or two-sample test. One-sample Z–Test is chosen to compare a population mean with the \n",
    "sample mean. On the other hand, Two-sample Z-Test is chosen to compare the mean of two different samples. \n",
    " \n",
    "<b>The one-sample Z-score is computed using the formula:</b> "
   ]
  },
  {
   "cell_type": "markdown",
   "id": "17de35e2",
   "metadata": {},
   "source": [
    "![zonesample.png](images/zonesample.png)"
   ]
  },
  {
   "cell_type": "markdown",
   "id": "25bcf40f",
   "metadata": {},
   "source": [
    "Where x̄ is the sample mean, σ is the standard deviation of the population, μ is the mean of the population and n is \n",
    "the sample size. \n",
    " \n",
    "<b>Similarly, the two-sample Z-Test is computed using the following formula:</b> \n"
   ]
  },
  {
   "cell_type": "markdown",
   "id": "e50565ff",
   "metadata": {},
   "source": [
    "![ztwosampe.png](images/ztwosampe.png)"
   ]
  },
  {
   "cell_type": "markdown",
   "id": "4dccfe51",
   "metadata": {},
   "source": [
    "# Example:"
   ]
  },
  {
   "cell_type": "markdown",
   "id": "30c2c5cd",
   "metadata": {},
   "source": [
    "A school principal claims that the students in his school are more intelligent than those of other schools. A random sample of 50 students' IQ scores has a mean score of 110. The mean population IQ is 100 with an Standard deviation of 15. State whether the claim of the principal is right or not at a 5% significance level."
   ]
  },
  {
   "cell_type": "markdown",
   "id": "5b910a85",
   "metadata": {},
   "source": [
    "Ho = the average population IQ score is 100\n",
    "\n",
    "Ha = the average population IQ score is above 100"
   ]
  },
  {
   "cell_type": "code",
   "execution_count": 4,
   "id": "e079eb91",
   "metadata": {},
   "outputs": [
    {
     "name": "stdout",
     "output_type": "stream",
     "text": [
      "mean=109.77 stdv=1.81\n",
      "Reject Null Hypothesis\n"
     ]
    }
   ],
   "source": [
    "# import the libraries\n",
    "import math\n",
    "import numpy as np\n",
    "from numpy.random import randn\n",
    "from statsmodels.stats.weightstats import ztest\n",
    "\n",
    "# Generate a random array of 50 numbers having mean 110 and standard deviation of 15\n",
    "# similar to the IQ scores data \n",
    "mean_iq = 110\n",
    "sd_iq = 15/math.sqrt(50)\n",
    "alpha =0.05\n",
    "null_mean =100\n",
    "data = sd_iq*randn(50)+mean_iq\n",
    "# Print mean and SD\n",
    "print('mean=%.2f stdv=%.2f' % (np.mean(data), np.std(data)))\n",
    "\n",
    "# Now we perform the test, and In this function, we passed data in the value parameter\n",
    "# We passed mean value in the null hypothesis and will check if the mean is larger in the\n",
    "# alternative hypothesis\n",
    "\n",
    "ztest_Score, p_value= ztest(data,value = null_mean, alternative='larger')\n",
    "# The function outputs a p_value and z-score corresponding to that value, we compare the\n",
    "# p-value with alpha, and if it is greater than alpha, then we do accept the null hypothesis else we reject it.\n",
    "\n",
    "if(p_value < alpha):\n",
    "    print(\"Reject Null Hypothesis\")\n",
    "else:\n",
    "    print(\"Fail to Reject NUll Hypothesis\")\n"
   ]
  },
  {
   "cell_type": "markdown",
   "id": "2abe3e79",
   "metadata": {},
   "source": [
    "# Choosing between T-Test and Z-Test "
   ]
  },
  {
   "cell_type": "markdown",
   "id": "f531cb47",
   "metadata": {},
   "source": [
    "Both the T-Test and Z-Test work with one-sample and two-sample scenarios. Also, both use the mean and standard deviation,\n",
    "however, tests are selected based on the sample or population into consideration.\n",
    " \n",
    "If the sample size is large enough, then both T-Test and Z-Test will correlate with the same results. However, for a\n",
    "large sample size, sample variance provides a better estimate of population variance. Therefore, even if population \n",
    "variance is unknown, we can choose Z-Test using sample variance. \n",
    " \n",
    "For a large sample size, we have higher degrees of freedom. Also, since T-distribution approaches the normal \n",
    "distribution, the difference between the T-score and Z-score is small. \n"
   ]
  },
  {
   "cell_type": "markdown",
   "id": "3bc8868b",
   "metadata": {},
   "source": [
    "# T-Test and P-Value Using Python"
   ]
  },
  {
   "cell_type": "markdown",
   "id": "c871da1c",
   "metadata": {},
   "source": [
    "# T - Test\n",
    "\n",
    "### When is it used:\n",
    "1. When we want to determine if means of 2 groups are different or not\n",
    "2. When we want to compare means of two samples\n",
    "3. Sample size <=30\n",
    "4. Data follows normal distribution\n",
    "\n",
    "## Independent Sample T-Test:\n",
    "1. Check the average of 2 independent unrelated groups.\n",
    "2. Samples should be from 2 different populations.\n",
    "\n",
    "- Null Hypothesis : $\\mu_{a} = \\mu_{b}$\n",
    "- Alternate Hypothesis : $\\mu_{a} \\ne \\mu_{b}$\n",
    "\n",
    "## Paired Sample T-Test:\n",
    "1. Average of 2 samples taken from the same population but in different points in time.\n",
    "- Null Hypothesis : $\\mu_{d}$ = 0\n",
    "- Alternate Hypothesis : $\\mu_{d} \\ne $ 0\n",
    "\n",
    "## One Sample T-Test:\n",
    "1. Average of a single group is different from known average\n",
    "- Null Hypothesis : $\\mu_{a} =$ X\n",
    "- Alternate Hypothesis : $\\mu_{a} \\ne $ X"
   ]
  },
  {
   "cell_type": "code",
   "execution_count": 5,
   "id": "83266571",
   "metadata": {},
   "outputs": [],
   "source": [
    "# Create sample data\n",
    "import random\n",
    "random.seed(100)\n",
    "a = [ random.gauss(50,20) for x in range(30)]\n",
    "b = [ random.gauss(55,15) for x in range(30)]"
   ]
  },
  {
   "cell_type": "code",
   "execution_count": 6,
   "id": "ffd29fdf",
   "metadata": {},
   "outputs": [
    {
     "data": {
      "text/plain": [
       "<AxesSubplot:ylabel='Density'>"
      ]
     },
     "execution_count": 6,
     "metadata": {},
     "output_type": "execute_result"
    },
    {
     "data": {
      "image/png": "[encoded data removed]",
      "text/plain": [
       "<Figure size 432x288 with 1 Axes>"
      ]
     },
     "metadata": {
      "needs_background": "light"
     },
     "output_type": "display_data"
    }
   ],
   "source": [
    "import seaborn as sns\n",
    "sns.set_style('darkgrid')\n",
    "sns.kdeplot(a,shade = True)\n",
    "sns.kdeplot(b,shade = True)"
   ]
  },
  {
   "cell_type": "markdown",
   "id": "dbd38bdd",
   "metadata": {},
   "source": [
    "# Independent Sample T-Test"
   ]
  },
  {
   "cell_type": "code",
   "execution_count": 7,
   "id": "a2751ff0",
   "metadata": {},
   "outputs": [],
   "source": [
    "import scipy.stats as stats"
   ]
  },
  {
   "cell_type": "code",
   "execution_count": 8,
   "id": "7348b29f",
   "metadata": {},
   "outputs": [],
   "source": [
    "t_stat,p_value = stats.ttest_ind(a,b,equal_var=False)"
   ]
  },
  {
   "cell_type": "code",
   "execution_count": 9,
   "id": "1a3bc19e",
   "metadata": {},
   "outputs": [
    {
     "data": {
      "text/plain": [
       "(0.10279425917534411, 0.918530829423513)"
      ]
     },
     "execution_count": 9,
     "metadata": {},
     "output_type": "execute_result"
    }
   ],
   "source": [
    "t_stat,p_value"
   ]
  },
  {
   "cell_type": "markdown",
   "id": "0d3482c9",
   "metadata": {},
   "source": [
    "##### p >= 0.05 and hence we accept the null hypothesis"
   ]
  },
  {
   "cell_type": "code",
   "execution_count": 10,
   "id": "42d496e3",
   "metadata": {},
   "outputs": [],
   "source": [
    "import numpy as np"
   ]
  },
  {
   "cell_type": "code",
   "execution_count": 11,
   "id": "85d9c4a2",
   "metadata": {},
   "outputs": [
    {
     "data": {
      "text/plain": [
       "(51.182639340857826, 50.67895224399505)"
      ]
     },
     "execution_count": 11,
     "metadata": {},
     "output_type": "execute_result"
    }
   ],
   "source": [
    "# Confirming the results of the test\n",
    "np.mean(a), np.mean(b)"
   ]
  },
  {
   "cell_type": "code",
   "execution_count": 12,
   "id": "97697e28",
   "metadata": {},
   "outputs": [],
   "source": [
    "a = [ random.gauss(50,20) for x in range(30)]\n",
    "b = [ random.gauss(60,25) for x in range(30)]"
   ]
  },
  {
   "cell_type": "markdown",
   "id": "ed44357d",
   "metadata": {},
   "source": [
    "# Paired Sample T-Test"
   ]
  },
  {
   "cell_type": "code",
   "execution_count": 13,
   "id": "933f6b53",
   "metadata": {},
   "outputs": [],
   "source": [
    "t_stat,p_value = stats.ttest_rel(a,b)"
   ]
  },
  {
   "cell_type": "code",
   "execution_count": 14,
   "id": "490c2689",
   "metadata": {},
   "outputs": [
    {
     "data": {
      "text/plain": [
       "(-2.7477434424821494, 0.010210498285614093)"
      ]
     },
     "execution_count": 14,
     "metadata": {},
     "output_type": "execute_result"
    }
   ],
   "source": [
    "t_stat,p_value"
   ]
  },
  {
   "cell_type": "markdown",
   "id": "c023384b",
   "metadata": {},
   "source": [
    "##### p <=0.05 and hence we reject the null hypothesis"
   ]
  },
  {
   "cell_type": "code",
   "execution_count": 15,
   "id": "d5632747",
   "metadata": {},
   "outputs": [
    {
     "data": {
      "text/plain": [
       "14.301311923126583"
      ]
     },
     "execution_count": 15,
     "metadata": {},
     "output_type": "execute_result"
    }
   ],
   "source": [
    "# Confirming the results of the test\n",
    "np.mean(b) - np.mean(a)"
   ]
  },
  {
   "cell_type": "markdown",
   "id": "46a8ca00",
   "metadata": {},
   "source": [
    "# One Sample T-Test"
   ]
  },
  {
   "cell_type": "code",
   "execution_count": 16,
   "id": "080c4a7e",
   "metadata": {},
   "outputs": [
    {
     "data": {
      "text/plain": [
       "46.074961678768354"
      ]
     },
     "execution_count": 16,
     "metadata": {},
     "output_type": "execute_result"
    }
   ],
   "source": [
    "# Checking the mean to give the population mean value\n",
    "np.mean(a)"
   ]
  },
  {
   "cell_type": "code",
   "execution_count": 17,
   "id": "43fee50a",
   "metadata": {},
   "outputs": [],
   "source": [
    "t_stat,p_value = stats.ttest_1samp(a,100,axis = 0)"
   ]
  },
  {
   "cell_type": "code",
   "execution_count": 18,
   "id": "2259a0d5",
   "metadata": {},
   "outputs": [
    {
     "data": {
      "text/plain": [
       "(-15.726161201628097, 9.860930052233548e-16)"
      ]
     },
     "execution_count": 18,
     "metadata": {},
     "output_type": "execute_result"
    }
   ],
   "source": [
    "t_stat,p_value"
   ]
  },
  {
   "cell_type": "markdown",
   "id": "c99472d8",
   "metadata": {},
   "source": [
    "#### p <=0.05 and hence we reject the null hypothesis"
   ]
  },
  {
   "cell_type": "markdown",
   "id": "60a51236",
   "metadata": {},
   "source": [
    "# Z-Test and P-Value Using Python"
   ]
  },
  {
   "cell_type": "code",
   "execution_count": 19,
   "id": "a5da4d54",
   "metadata": {},
   "outputs": [],
   "source": [
    "# Import ztest library\n",
    "import random\n",
    "random.seed(20)\n",
    "from statsmodels.stats.weightstats import ztest as ztest"
   ]
  },
  {
   "cell_type": "markdown",
   "id": "3ea428f8",
   "metadata": {},
   "source": [
    "#### Known mean and standard deviation\n",
    "$ \\mu = 100 $ <br>\n",
    "$ \\sigma = 15 $"
   ]
  },
  {
   "cell_type": "markdown",
   "id": "c3ea58bd",
   "metadata": {},
   "source": [
    "# One Sample Z-test"
   ]
  },
  {
   "cell_type": "markdown",
   "id": "893eb7b5",
   "metadata": {},
   "source": [
    "* Null Hypothesis : $\\mu_{s} = value$\n",
    "\n",
    "* Alternate Hypothesis : $\\mu_{s} \\ne value$"
   ]
  },
  {
   "cell_type": "code",
   "execution_count": 20,
   "id": "44a4bf26",
   "metadata": {},
   "outputs": [],
   "source": [
    "# Create sample with same mean\n",
    "a = [random.gauss(100,15) for x in range(40)]"
   ]
  },
  {
   "cell_type": "code",
   "execution_count": 21,
   "id": "c88a3519",
   "metadata": {},
   "outputs": [
    {
     "data": {
      "text/plain": [
       "(1.3430675401429018, 0.17925010504664385)"
      ]
     },
     "execution_count": 21,
     "metadata": {},
     "output_type": "execute_result"
    }
   ],
   "source": [
    "ztest(a,value = 100)"
   ]
  },
  {
   "cell_type": "markdown",
   "id": "bc822e72",
   "metadata": {},
   "source": [
    "p value <=0.05 and hence we reject the null hypothesis"
   ]
  },
  {
   "cell_type": "code",
   "execution_count": 22,
   "id": "fe9515e9",
   "metadata": {},
   "outputs": [],
   "source": [
    "# Sampe with same mean\n",
    "a = [random.gauss(100,15) for x in range(40)]\n",
    "b = [random.gauss(100,15) for x in range(40)]"
   ]
  },
  {
   "cell_type": "code",
   "execution_count": 23,
   "id": "2bbbaf3b",
   "metadata": {},
   "outputs": [
    {
     "data": {
      "text/plain": [
       "(-0.9878523542697073, 0.32322496274152)"
      ]
     },
     "execution_count": 23,
     "metadata": {},
     "output_type": "execute_result"
    }
   ],
   "source": [
    "ztest(a,b,value = 0)"
   ]
  },
  {
   "cell_type": "markdown",
   "id": "1dd688ee",
   "metadata": {},
   "source": [
    "# Use Case: Determine the Diameter of Two Units"
   ]
  },
  {
   "cell_type": "markdown",
   "id": "e025fbc6",
   "metadata": {},
   "source": [
    "### Problem Statement:"
   ]
  },
  {
   "cell_type": "markdown",
   "id": "57b13668",
   "metadata": {},
   "source": [
    "An administrator wants to determine whether there is any significant difference in the diameter of the cutlet between\n",
    "two units. A randomly selected sample of cutlets was collected from both units and measured? Analyze the data and draw\n",
    "inferences at 5% significance level. Please state the assumptions and tests that you've carried out to check validity of \n",
    "the assumptions.\n",
    "\n",
    "$H_o$ = mean < 0.05\n",
    "\n",
    "$H_a$ = mean >= 0.05"
   ]
  },
  {
   "cell_type": "markdown",
   "id": "22fcb82e",
   "metadata": {},
   "source": [
    "### Dataset:"
   ]
  },
  {
   "cell_type": "markdown",
   "id": "48a8f73c",
   "metadata": {},
   "source": [
    "Unit defines the diameter of cutlet. \n",
    "\n",
    "The dataset consists of two columns, i.e. Unit A and Unit B, with 35 values."
   ]
  },
  {
   "cell_type": "markdown",
   "id": "fdf9d7d1",
   "metadata": {},
   "source": [
    "### Solution:"
   ]
  },
  {
   "cell_type": "code",
   "execution_count": 24,
   "id": "eab1c763",
   "metadata": {},
   "outputs": [],
   "source": [
    "# Import the libraries\n",
    "import numpy as np\n",
    "import pandas as pd\n",
    "import matplotlib.pyplot as plt\n",
    "import seaborn as sns\n",
    "import scipy as sp"
   ]
  },
  {
   "cell_type": "code",
   "execution_count": 25,
   "id": "a7621e15",
   "metadata": {},
   "outputs": [
    {
     "data": {
      "text/html": [
       "<div>\n",
       "<style scoped>\n",
       "    .dataframe tbody tr th:only-of-type {\n",
       "        vertical-align: middle;\n",
       "    }\n",
       "\n",
       "    .dataframe tbody tr th {\n",
       "        vertical-align: top;\n",
       "    }\n",
       "\n",
       "    .dataframe thead th {\n",
       "        text-align: right;\n",
       "    }\n",
       "</style>\n",
       "<table border=\"1\" class=\"dataframe\">\n",
       "  <thead>\n",
       "    <tr style=\"text-align: right;\">\n",
       "      <th></th>\n",
       "      <th>Unit A</th>\n",
       "      <th>Unit B</th>\n",
       "    </tr>\n",
       "  </thead>\n",
       "  <tbody>\n",
       "    <tr>\n",
       "      <th>0</th>\n",
       "      <td>6.8090</td>\n",
       "      <td>6.7703</td>\n",
       "    </tr>\n",
       "    <tr>\n",
       "      <th>1</th>\n",
       "      <td>6.4376</td>\n",
       "      <td>7.5093</td>\n",
       "    </tr>\n",
       "    <tr>\n",
       "      <th>2</th>\n",
       "      <td>6.9157</td>\n",
       "      <td>6.7300</td>\n",
       "    </tr>\n",
       "    <tr>\n",
       "      <th>3</th>\n",
       "      <td>7.3012</td>\n",
       "      <td>6.7878</td>\n",
       "    </tr>\n",
       "    <tr>\n",
       "      <th>4</th>\n",
       "      <td>7.4488</td>\n",
       "      <td>7.1522</td>\n",
       "    </tr>\n",
       "  </tbody>\n",
       "</table>\n",
       "</div>"
      ],
      "text/plain": [
       "   Unit A  Unit B\n",
       "0  6.8090  6.7703\n",
       "1  6.4376  7.5093\n",
       "2  6.9157  6.7300\n",
       "3  7.3012  6.7878\n",
       "4  7.4488  7.1522"
      ]
     },
     "execution_count": 25,
     "metadata": {},
     "output_type": "execute_result"
    }
   ],
   "source": [
    "df = pd.read_csv('Datasets/Cutlets.csv')\n",
    "df.head()"
   ]
  },
  {
   "cell_type": "code",
   "execution_count": 26,
   "id": "ece25c74",
   "metadata": {},
   "outputs": [
    {
     "data": {
      "text/html": [
       "<div>\n",
       "<style scoped>\n",
       "    .dataframe tbody tr th:only-of-type {\n",
       "        vertical-align: middle;\n",
       "    }\n",
       "\n",
       "    .dataframe tbody tr th {\n",
       "        vertical-align: top;\n",
       "    }\n",
       "\n",
       "    .dataframe thead th {\n",
       "        text-align: right;\n",
       "    }\n",
       "</style>\n",
       "<table border=\"1\" class=\"dataframe\">\n",
       "  <thead>\n",
       "    <tr style=\"text-align: right;\">\n",
       "      <th></th>\n",
       "      <th>Unit A</th>\n",
       "      <th>Unit B</th>\n",
       "    </tr>\n",
       "  </thead>\n",
       "  <tbody>\n",
       "    <tr>\n",
       "      <th>count</th>\n",
       "      <td>35.000000</td>\n",
       "      <td>35.000000</td>\n",
       "    </tr>\n",
       "    <tr>\n",
       "      <th>mean</th>\n",
       "      <td>7.019091</td>\n",
       "      <td>6.964297</td>\n",
       "    </tr>\n",
       "    <tr>\n",
       "      <th>std</th>\n",
       "      <td>0.288408</td>\n",
       "      <td>0.343401</td>\n",
       "    </tr>\n",
       "    <tr>\n",
       "      <th>min</th>\n",
       "      <td>6.437600</td>\n",
       "      <td>6.038000</td>\n",
       "    </tr>\n",
       "    <tr>\n",
       "      <th>25%</th>\n",
       "      <td>6.831500</td>\n",
       "      <td>6.753600</td>\n",
       "    </tr>\n",
       "    <tr>\n",
       "      <th>50%</th>\n",
       "      <td>6.943800</td>\n",
       "      <td>6.939900</td>\n",
       "    </tr>\n",
       "    <tr>\n",
       "      <th>75%</th>\n",
       "      <td>7.280550</td>\n",
       "      <td>7.195000</td>\n",
       "    </tr>\n",
       "    <tr>\n",
       "      <th>max</th>\n",
       "      <td>7.516900</td>\n",
       "      <td>7.545900</td>\n",
       "    </tr>\n",
       "  </tbody>\n",
       "</table>\n",
       "</div>"
      ],
      "text/plain": [
       "          Unit A     Unit B\n",
       "count  35.000000  35.000000\n",
       "mean    7.019091   6.964297\n",
       "std     0.288408   0.343401\n",
       "min     6.437600   6.038000\n",
       "25%     6.831500   6.753600\n",
       "50%     6.943800   6.939900\n",
       "75%     7.280550   7.195000\n",
       "max     7.516900   7.545900"
      ]
     },
     "execution_count": 26,
     "metadata": {},
     "output_type": "execute_result"
    }
   ],
   "source": [
    "df.describe()"
   ]
  },
  {
   "cell_type": "code",
   "execution_count": 27,
   "id": "e9d07cb7",
   "metadata": {},
   "outputs": [
    {
     "data": {
      "text/plain": [
       "7.0190914285714285"
      ]
     },
     "execution_count": 27,
     "metadata": {},
     "output_type": "execute_result"
    }
   ],
   "source": [
    "df_unit_A = df['Unit A'].mean()\n",
    "df_unit_A"
   ]
  },
  {
   "cell_type": "code",
   "execution_count": 28,
   "id": "f8bc368f",
   "metadata": {},
   "outputs": [
    {
     "data": {
      "text/plain": [
       "6.964297142857142"
      ]
     },
     "execution_count": 28,
     "metadata": {},
     "output_type": "execute_result"
    }
   ],
   "source": [
    "df_unit_B = df['Unit B'].mean()\n",
    "df_unit_B"
   ]
  },
  {
   "cell_type": "code",
   "execution_count": 29,
   "id": "9abcb00e",
   "metadata": {},
   "outputs": [
    {
     "data": {
      "text/plain": [
       "True"
      ]
     },
     "execution_count": 29,
     "metadata": {},
     "output_type": "execute_result"
    }
   ],
   "source": [
    "df_unit_A > df_unit_B"
   ]
  },
  {
   "cell_type": "markdown",
   "id": "201f0cd7",
   "metadata": {},
   "source": [
    "##  Plotting the data"
   ]
  },
  {
   "cell_type": "code",
   "execution_count": 30,
   "id": "d563d4d4",
   "metadata": {},
   "outputs": [
    {
     "data": {
      "text/plain": [
       "<matplotlib.legend.Legend at 0x16ac32a30>"
      ]
     },
     "execution_count": 30,
     "metadata": {},
     "output_type": "execute_result"
    },
    {
     "data": {
      "image/png": "[encoded data removed]",
      "text/plain": [
       "<Figure size 432x288 with 1 Axes>"
      ]
     },
     "metadata": {
      "needs_background": "light"
     },
     "output_type": "display_data"
    }
   ],
   "source": [
    "sns.histplot(data=df['Unit A'],color = 'green', kde=True)\n",
    "sns.histplot(data=df['Unit B'],color = 'yellow', kde=True)\n",
    "plt.legend(['Unit A','Unit B'])"
   ]
  },
  {
   "cell_type": "code",
   "execution_count": 31,
   "id": "a8b90406",
   "metadata": {},
   "outputs": [
    {
     "data": {
      "text/plain": [
       "<AxesSubplot:>"
      ]
     },
     "execution_count": 31,
     "metadata": {},
     "output_type": "execute_result"
    },
    {
     "data": {
      "image/png": "[encoded data removed]",
      "text/plain": [
       "<Figure size 432x288 with 1 Axes>"
      ]
     },
     "metadata": {
      "needs_background": "light"
     },
     "output_type": "display_data"
    }
   ],
   "source": [
    "sns.boxplot(data=[df['Unit A'],df['Unit B']])"
   ]
  },
  {
   "cell_type": "code",
   "execution_count": 32,
   "id": "daf75a50",
   "metadata": {},
   "outputs": [],
   "source": [
    "# There is one outlier present in Unit B of cutlet data"
   ]
  },
  {
   "cell_type": "code",
   "execution_count": 33,
   "id": "ed304940",
   "metadata": {},
   "outputs": [],
   "source": [
    "# Calculating t-value and p-value using scipy\n",
    "tStat,pValue =sp.stats.ttest_ind(df['Unit A'],df['Unit B'])"
   ]
  },
  {
   "cell_type": "code",
   "execution_count": 34,
   "id": "f079880d",
   "metadata": {},
   "outputs": [
    {
     "data": {
      "text/plain": [
       "0.7228688704678063"
      ]
     },
     "execution_count": 34,
     "metadata": {},
     "output_type": "execute_result"
    }
   ],
   "source": [
    "tStat"
   ]
  },
  {
   "cell_type": "code",
   "execution_count": 35,
   "id": "6a101c1f",
   "metadata": {},
   "outputs": [
    {
     "data": {
      "text/plain": [
       "0.4722394724599501"
      ]
     },
     "execution_count": 35,
     "metadata": {},
     "output_type": "execute_result"
    }
   ],
   "source": [
    "pValue"
   ]
  },
  {
   "cell_type": "code",
   "execution_count": 36,
   "id": "e2ad372d",
   "metadata": {},
   "outputs": [
    {
     "name": "stdout",
     "output_type": "stream",
     "text": [
      "We accept Null Hypothesis\n"
     ]
    }
   ],
   "source": [
    "if pValue < 0.05:\n",
    "    print('We reject Null Hypothesis')\n",
    "else:\n",
    "    print('We accept Null Hypothesis')"
   ]
  },
  {
   "cell_type": "markdown",
   "id": "38b766ce",
   "metadata": {},
   "source": [
    "The inference is that there is no significant difference in the diameters of Unit A and Unit B."
   ]
  },
  {
   "cell_type": "markdown",
   "id": "b9035c7e",
   "metadata": {},
   "source": [
    "### Chi-Square"
   ]
  },
  {
   "cell_type": "markdown",
   "id": "c5005901",
   "metadata": {},
   "source": [
    "A Chi-square distribution, pronounced ‘khai squared’, is a continuous probability distribution widely used in statistical\n",
    "inference. The Greek letter χ is often used, and χ2 is termed as chi-square. \n",
    " \n",
    "The χ2 distribution and the standard normal distribution are related. If a random variable Z has a standard normal \n",
    "distribution, then Z2 has the χ2 distribution with one degree of freedom. \n",
    " \n",
    "\n",
    "\n"
   ]
  },
  {
   "cell_type": "markdown",
   "id": "df7855bb",
   "metadata": {},
   "source": [
    "![Normal_chi.png](images/Normal_chi.png)"
   ]
  },
  {
   "cell_type": "markdown",
   "id": "c4e5f7cc",
   "metadata": {},
   "source": [
    "Multiple standard random variables are possible. Mathematically, for k variables, \n",
    " \n",
    "Z12 + Z22 has 2 degrees of freedom. \n",
    " \n",
    "Z12 + Z22 + Z32 + Z42 + Z52 + Z62 has 6 degrees of freedom, etc. \n",
    " \n",
    "For k degrees of freedom, we have: \n",
    "    \n",
    "Z12 + Z22 + Z32 + Z42 + Z52 + Z62 + …. + Zk2, and this has a χ2 distribution of k degrees of freedom. \n",
    " \n",
    "The equation for the probability density function (images/PDF) of the χ2 distribution with k degrees of freedom is: \n"
   ]
  },
  {
   "cell_type": "markdown",
   "id": "73842b55",
   "metadata": {},
   "source": [
    "![dof.png](images/dof.png)"
   ]
  },
  {
   "cell_type": "markdown",
   "id": "0bf6418f",
   "metadata": {},
   "source": [
    "The function is valid for all positive values of x, and k is the number of degrees of freedom. As the PDF has the gamma \n",
    "function Γ, the χ2 distribution of k degrees of freedom is also a gamma function. \n",
    " "
   ]
  },
  {
   "cell_type": "markdown",
   "id": "d9411ae1",
   "metadata": {},
   "source": [
    "With increasing degrees of freedom, the shape of the χ2 distribution varies. For k = 1, the PDF is infinity, when χ2 = 0. \n",
    "For k = 2, PDF is 0.5 for χ2 = 0. For higher values of k (images/3 or more), the χ2 distribution changes to a positively skewed \n",
    "standard normal distribution, and with higher degrees of freedom, the skewness and the kurtosis of the χ2 distribution \n",
    "changes, with the distribution becoming increasingly symmetric. \n",
    " \n",
    "Note: In any χ2 distribution, the mean (images/μ) is k, the number of degrees of freedom, and the variance is 2k. \n",
    "    \n",
    "<b>For example, for k = 3 in the diagram, μ = 3, while the variance is 2 x k, or 6. </b>\n",
    " \n",
    "The mode of the distribution will occur at k-2 for the distributions with k = 3 and above. So, when k = 4, the mode is \n",
    "at k – 2, which is 2. \n",
    " \n"
   ]
  },
  {
   "cell_type": "markdown",
   "id": "1a206bee",
   "metadata": {},
   "source": [
    "# Chi-square Distribution "
   ]
  },
  {
   "cell_type": "markdown",
   "id": "ff7fe0f0",
   "metadata": {},
   "source": [
    "# Chi-Squared Distribution Using Python"
   ]
  },
  {
   "cell_type": "code",
   "execution_count": 37,
   "id": "da3f62e7",
   "metadata": {},
   "outputs": [
    {
     "name": "stdout",
     "output_type": "stream",
     "text": [
      "[0.01740758 0.90270958 2.36412118 3.99878559 0.21067853 1.49916927\n",
      " 3.06277344 0.37309988 1.25872164 0.7432883 ]\n"
     ]
    }
   ],
   "source": [
    "# Create Chi-Square Distribution of varying degrees of freedom\n",
    "data1 = np.random.chisquare(df = 1,size = 1000)\n",
    "data2 = np.random.chisquare(df = 2,size = 1000)\n",
    "data3 = np.random.chisquare(df = 3,size = 1000)\n",
    "print(data1[:10])"
   ]
  },
  {
   "cell_type": "code",
   "execution_count": 38,
   "id": "2bfcfd96",
   "metadata": {},
   "outputs": [
    {
     "name": "stderr",
     "output_type": "stream",
     "text": [
      "/Users/abhilashchauhan/miniforge3/lib/python3.9/site-packages/seaborn/distributions.py:2619: FutureWarning: `distplot` is a deprecated function and will be removed in a future version. Please adapt your code to use either `displot` (a figure-level function with similar flexibility) or `kdeplot` (an axes-level function for kernel density plots).\n",
      "  warnings.warn(msg, FutureWarning)\n",
      "/Users/abhilashchauhan/miniforge3/lib/python3.9/site-packages/seaborn/distributions.py:2619: FutureWarning: `distplot` is a deprecated function and will be removed in a future version. Please adapt your code to use either `displot` (a figure-level function with similar flexibility) or `kdeplot` (an axes-level function for kernel density plots).\n",
      "  warnings.warn(msg, FutureWarning)\n",
      "/Users/abhilashchauhan/miniforge3/lib/python3.9/site-packages/seaborn/distributions.py:2619: FutureWarning: `distplot` is a deprecated function and will be removed in a future version. Please adapt your code to use either `displot` (a figure-level function with similar flexibility) or `kdeplot` (an axes-level function for kernel density plots).\n",
      "  warnings.warn(msg, FutureWarning)\n"
     ]
    },
    {
     "data": {
      "text/plain": [
       "<matplotlib.legend.Legend at 0x16ad8cac0>"
      ]
     },
     "execution_count": 38,
     "metadata": {},
     "output_type": "execute_result"
    },
    {
     "data": {
      "image/png": "[encoded data removed]",
      "text/plain": [
       "<Figure size 432x288 with 1 Axes>"
      ]
     },
     "metadata": {
      "needs_background": "light"
     },
     "output_type": "display_data"
    }
   ],
   "source": [
    "import matplotlib.pyplot as plt\n",
    "import seaborn as sns\n",
    "# Plot the distributions\n",
    "sns.distplot(data1, hist = False, label = 'dof 1')\n",
    "sns.distplot(data2, hist = False, label = 'dof 2')\n",
    "sns.distplot(data3, hist = False, label = 'dof 3')\n",
    "plt.legend()"
   ]
  },
  {
   "cell_type": "code",
   "execution_count": 39,
   "id": "f8561fbd",
   "metadata": {},
   "outputs": [],
   "source": [
    "from scipy.stats import chi2_contingency"
   ]
  },
  {
   "cell_type": "code",
   "execution_count": 40,
   "id": "d6ab89c4",
   "metadata": {},
   "outputs": [],
   "source": [
    "data = [[10,20,30],[6,9,17]]"
   ]
  },
  {
   "cell_type": "code",
   "execution_count": 41,
   "id": "31c72bce",
   "metadata": {},
   "outputs": [],
   "source": [
    "stat, p_value, dof, chi_array = chi2_contingency(data)"
   ]
  },
  {
   "cell_type": "code",
   "execution_count": 42,
   "id": "95451af1",
   "metadata": {},
   "outputs": [
    {
     "data": {
      "text/plain": [
       "0.873028283380073"
      ]
     },
     "execution_count": 42,
     "metadata": {},
     "output_type": "execute_result"
    }
   ],
   "source": [
    "p_value"
   ]
  },
  {
   "cell_type": "markdown",
   "id": "6c823ff7",
   "metadata": {},
   "source": [
    "p-value > 0.05, reject null hypothesis as there is relationship between the two groups."
   ]
  },
  {
   "cell_type": "code",
   "execution_count": 43,
   "id": "c583feca",
   "metadata": {},
   "outputs": [],
   "source": [
    "data = [[10,20,30],[9,1,8]]"
   ]
  },
  {
   "cell_type": "code",
   "execution_count": 44,
   "id": "662724e4",
   "metadata": {},
   "outputs": [],
   "source": [
    "stat, p_value, dof, chi_array = chi2_contingency(data)"
   ]
  },
  {
   "cell_type": "code",
   "execution_count": 45,
   "id": "5262a8e2",
   "metadata": {},
   "outputs": [
    {
     "data": {
      "text/plain": [
       "0.005595003173072842"
      ]
     },
     "execution_count": 45,
     "metadata": {},
     "output_type": "execute_result"
    }
   ],
   "source": [
    "p_value"
   ]
  },
  {
   "cell_type": "markdown",
   "id": "86618f81",
   "metadata": {},
   "source": [
    "# Chi-square Test and Goodness-of-Fit "
   ]
  },
  {
   "cell_type": "markdown",
   "id": "affb857c",
   "metadata": {},
   "source": [
    "<b>Goodness-of-Fit</b> \n",
    "\n",
    "Goodness-of-Fit is a statistical test that examines how closely the sample data fits a population with a normal \n",
    "distribution. \n",
    " \n",
    "There are multiple ways to determine goodness-of-fit, like the Shapiro-Wilk test, Kolmogorov-Smirnov test, Chi-square \n",
    "test, etc. \n"
   ]
  },
  {
   "cell_type": "markdown",
   "id": "4c02933f",
   "metadata": {},
   "source": [
    "<b>Chi-square Test</b> \n",
    "The Chi-square test is the most common and popular goodness-of-fit test. It determines whether categorical data are \n",
    "related. It’s a non-parametric test and is also called Pearson’s Chi-square test. \n",
    " \n",
    "In order to ascertain the goodness-of-fit test, it's important to establish an alpha value, such as the p-value, for \n",
    "the Chi-square test. The p-value refers to the probability of getting results close to the extremes of the observed \n",
    "distribution. This assumes that the null hypothesis is correct.  \n"
   ]
  },
  {
   "cell_type": "markdown",
   "id": "33ad7ec4",
   "metadata": {},
   "source": [
    "## Steps for Chi-Square Test "
   ]
  },
  {
   "cell_type": "markdown",
   "id": "85617fdb",
   "metadata": {},
   "source": [
    "1. Define the Null and Alternate hypotheses based on the data. H0 implies that the data met the expected distribution, \n",
    "   while H1 implies that it did not\n",
    "    \n",
    "2. State the alpha value. As mentioned earlier, we usually work with a value of 0.05 \n",
    "\n",
    "3. Calculate the degrees of freedom, k. It depends on the number of categories or groups, and is usually K – 1, where\n",
    "   K is the number of frequencies\n",
    "    \n",
    "4. State the decision rule. Calculate the ‘decision value’ based on the alpha value and degrees of freedom. Based on this \n",
    "   value, either reject H0 or reject H1\n",
    "\n",
    "5. Calculate the test statistic for χ2 using the formula: \n"
   ]
  },
  {
   "cell_type": "markdown",
   "id": "dacd357f",
   "metadata": {},
   "source": [
    "![Chi_test+formula.png](images/Chi_test_formula.png)"
   ]
  },
  {
   "cell_type": "markdown",
   "id": "6eecc2ad",
   "metadata": {},
   "source": [
    "Here O is the observed value and E is the expected value from the sample. K is the degree of freedom. \n",
    "\n",
    "6. Finally, compare the decision value computed in step 4 with that of step 5 to either accept or reject the null hypothesis\n",
    "\n",
    "7. Based on step 6, conclude the domain observation \n"
   ]
  },
  {
   "cell_type": "markdown",
   "id": "e100b4fb",
   "metadata": {},
   "source": [
    "# Analysis of Variance or ANOVA "
   ]
  },
  {
   "cell_type": "markdown",
   "id": "e6d312dd",
   "metadata": {},
   "source": [
    "ANOVA, or Analysis of Variance, is a collection of statistical models and their associated estimation procedures used \n",
    "to analyze the differences among means. It was developed by the statistician, Ronald Fisher in 1918. Please note that\n",
    "the term ‘variance’ is used to indicate the ‘variation’ or the ‘dispersion’ and must not be confused with the common \n",
    "statistical term ‘variance’. \n",
    "\n",
    "The ANOVA test extends the T and the Z test, as they are constrained to allowing the nominal level variable to have \n",
    "only two categories. ANOVA is also called the Fisher analysis of variance and is suitable for performing simultaneous \n",
    "tests on sets of data drawn from different populations. \n",
    "\n"
   ]
  },
  {
   "cell_type": "markdown",
   "id": "695c23b0",
   "metadata": {},
   "source": [
    "![ANOVA.png](images/ANOVA.png)"
   ]
  },
  {
   "cell_type": "markdown",
   "id": "a237177a",
   "metadata": {},
   "source": [
    "As you can see on the screen, there are four groups: A, B, C, and D, and their sample distributions are compared. \n",
    " \n"
   ]
  },
  {
   "cell_type": "markdown",
   "id": "ca8fe1c0",
   "metadata": {},
   "source": [
    "# How Does ANOVA Works?"
   ]
  },
  {
   "cell_type": "markdown",
   "id": "d8848824",
   "metadata": {},
   "source": [
    "Statistical tests such as T-Test, Z-Test, etc. Most of them are good for univariate situations. On the other hand,\n",
    "the ANOVA test compares the means of different groups and reveals any statistical differences between them. \n",
    " \n",
    "ANOVA is used in the analysis of complex multivariate situations, and most of the bio-chemical, pharmaceutical, and \n",
    "science researchers depend heavily on ANOVA for studying the effect on the dependent variable by multiple independent \n",
    "variables. \n",
    " \n",
    "<b>To understand how ANOVA works, let’s consider a medical experiment example:</b>\n",
    "    \n",
    "To study the effectiveness of different hypertension medicines, scientists usually plan and conduct experiments to \n",
    "understand the relationship between the type of medicine and the resulting blood pressure. The sample population is,\n",
    "obviously, a set of people or patients. The scientists generally divide the sample population into multiple groups, \n",
    "and each group is administered a particular medicine for a trial period. \n",
    "\n",
    "In the end, hypertension levels are measured for each of the individual patients. For each group, the mean hypertension\n",
    "level is calculated. ANOVA then helps in comparing these group ‘means’ to find out if they are statistically varying or\n",
    "similar. \n"
   ]
  },
  {
   "cell_type": "markdown",
   "id": "53f8bc00",
   "metadata": {},
   "source": [
    "# ANOVA Terminologies\n"
   ]
  },
  {
   "cell_type": "markdown",
   "id": "28f3837f",
   "metadata": {},
   "source": [
    "ANOVA uses many concepts and compares and produces the outcomes. \n",
    "\n",
    "* <b>Sample and Grand Means:</b> A sample mean is the average value for a specific group. The grand mean, on the \n",
    "    other hand, is the average of the sample means from various samples. \n",
    "    \n",
    "\n",
    "* <b>Dependent Variable:</b> It is the item or subject under investigation that is supposed to be influenced by many\n",
    "    other independent variables. \n",
    "    \n",
    "\n",
    "* <b>Independent Variables:</b> There are many of them. Each of them could have an impact on or influence the \n",
    "    Dependent Variable. \n",
    "    \n",
    "\n",
    "* <b>Factor:</b> Independent variables are frequently referred to as factors. \n",
    "\n",
    "\n",
    "* <b>Levels:</b> It denotes the different values of factors that are used in any typical experiment. For example, the \n",
    "    different medicines cited in the previous section. \n",
    "\n",
    "\n",
    "* <b>F-Statistic:</b> It is also known as F-Ratio. This is the outcome of ANOVA. \n",
    "\n",
    "\n",
    "* <b>Fixed-factor Model:</b> In this model, experiments use only a discrete set of levels of factors. \n",
    "\n",
    "\n",
    "* <b>Random-factor Model:</b> In this model, a random value of level is drawn from multiple possible values of the factor. \n",
    "\n"
   ]
  },
  {
   "cell_type": "markdown",
   "id": "9db8d6b0",
   "metadata": {},
   "source": [
    "# ANOVA Outcome"
   ]
  },
  {
   "cell_type": "markdown",
   "id": "bbc204d5",
   "metadata": {},
   "source": [
    " \n",
    "ANOVA's outcome is known as the ‘F statistic’. This is a ratio that shows the difference between the variation in \n",
    "the inter-group and the intra-group. With the help of this ratio, one can conclude whether the Null Hypothesis is \n",
    "true and either accept it or reject it. \n"
   ]
  },
  {
   "cell_type": "markdown",
   "id": "4083a77b",
   "metadata": {},
   "source": [
    "## Assumptions and Types of ANOVA \n",
    " \n",
    "\n"
   ]
  },
  {
   "cell_type": "markdown",
   "id": "15ca6883",
   "metadata": {},
   "source": [
    "<b>Purpose and Procedure of ANOVA </b>\n",
    "ANOVA is an omnibus test statistic. The null hypothesis for ANOVA is that there is no significant difference in the\n",
    "‘mean’ values among the groups. The alternate hypothesis, on the other hand, concludes that there are at least some \n",
    "significant differences. \n",
    " \n",
    "ANOVA makes the following assumptions about the probability distribution of the responses: \n",
    " \n",
    "1. Independence of observations \n",
    "\n",
    "2. Normalcy \n",
    "\n",
    "3. Equality of variances \n",
    " \n",
    "\n",
    "The first one is obvious and needs no further description. The normalcy indicates that the distribution of the \n",
    "'residuals' is normal. The equality of variances essentially means that the variance of data in the groups should be\n",
    "the same. \n",
    "\n",
    "<b>Note:</b> Assumptions also depend on the types of ANOVA used \n",
    " \n"
   ]
  },
  {
   "cell_type": "markdown",
   "id": "a576c028",
   "metadata": {},
   "source": [
    "# Types of ANOVA "
   ]
  },
  {
   "cell_type": "markdown",
   "id": "d67f573e",
   "metadata": {},
   "source": [
    "There are two types of ANOVA:\n",
    "\n",
    "1. One-way ANOVA\n",
    "\n",
    "\n",
    "2. Two-way ANOVA\n",
    "\n",
    "These are also referred to as one-factor ANOVA and two-factor ANOVA respectively. \n",
    " \n"
   ]
  },
  {
   "cell_type": "markdown",
   "id": "e41f7bcf",
   "metadata": {},
   "source": [
    "### One-Way ANOVA "
   ]
  },
  {
   "cell_type": "markdown",
   "id": "b08d3e4c",
   "metadata": {},
   "source": [
    "This is also known as simple ANOVA or just ANOVA. This test is suitable for experiments with only one factor \n",
    "(images/independent variable) with two or more levels. A one-way ANOVA assumes the following:\n",
    "\n",
    "* Independence \n",
    "\n",
    "\n",
    "* Normalcy \n",
    "\n",
    "\n",
    "* Variance \n",
    "\n",
    "\n",
    "* Continuous data \n",
    " \n",
    "The one-way ANOVA needs to operate on continuous data. \n",
    " \n"
   ]
  },
  {
   "cell_type": "markdown",
   "id": "5caa02a6",
   "metadata": {},
   "source": [
    "# Example:"
   ]
  },
  {
   "cell_type": "markdown",
   "id": "5a98c7fa",
   "metadata": {},
   "source": [
    "\n",
    "\n",
    "Three different categories of plants can be differentiated on the basis of their weights. A dataset with various plants and\n",
    "their weights are given. Construct a hypothetical test to determine the category of a plant at a significance level of 0.05."
   ]
  },
  {
   "cell_type": "code",
   "execution_count": 48,
   "id": "b8f96c15",
   "metadata": {},
   "outputs": [],
   "source": [
    "import pandas as pd\n",
    "from scipy import stats\n",
    "from statsmodels.stats import weightstats as stests\n",
    "df = pd.read_csv('Datasets/plant.csv')\n"
   ]
  },
  {
   "cell_type": "code",
   "execution_count": 49,
   "id": "5eea840f",
   "metadata": {},
   "outputs": [
    {
     "name": "stdout",
     "output_type": "stream",
     "text": [
      "p-value for significance is:  0.0159099583256229\n",
      "reject null hypothesis\n"
     ]
    }
   ],
   "source": [
    "df = df[['weight','group']]\n",
    "groups = pd.unique(df.group.values)\n",
    "data = {grp:df['weight'][df.group == grp] for grp in groups}\n",
    " \n",
    "F, p = stats.f_oneway(data['ctrl'], data['trt1'], data['trt2'])\n",
    "print(\"p-value for significance is: \", p)\n",
    "if p<0.05:\n",
    "    print(\"reject null hypothesis\")\n",
    "else:\n",
    "    print(\"accept null hypothesis\")"
   ]
  },
  {
   "cell_type": "markdown",
   "id": "291691d1",
   "metadata": {},
   "source": [
    "### Two-Way ANOVA "
   ]
  },
  {
   "cell_type": "markdown",
   "id": "dcf4f55a",
   "metadata": {},
   "source": [
    "The two-way ANOVA is used when there are two or more independent variables. It is also known as full factorial ANOVA or \n",
    "two-factor ANOVA. This test assumes importance when every possible permutation of factors and their levels are used. \n",
    "It is based on the following assumptions:\n",
    "\n",
    "* Independence \n",
    "\n",
    "\n",
    "* Normalcy \n",
    "\n",
    "\n",
    "* Variance \n",
    "\n",
    "\n",
    "* Continuous data \n",
    "\n",
    "\n",
    "* Categories \n",
    " \n",
    "For two-way ANOVA, the independent variables should be in separate groups or categories. \n",
    " \n"
   ]
  },
  {
   "cell_type": "markdown",
   "id": "c9cee631",
   "metadata": {},
   "source": [
    "N-Way ANOVA \n",
    "\n",
    "With increasing independent variables, ANOVA moves into a more complex category of problems which are tackled by N-Way \n",
    "ANOVA or MANOVA. The term MANOVA stands for multivariate analysis of variance. \n",
    "\n",
    "<b>For example:</b>\n",
    "    \n",
    "Analysis of voter preferences based on gender, age, ethnicity, etc., can be studied using MANOVA\n",
    " \n"
   ]
  },
  {
   "cell_type": "markdown",
   "id": "456b687b",
   "metadata": {},
   "source": [
    "# Example:"
   ]
  },
  {
   "cell_type": "markdown",
   "id": "8efc2237",
   "metadata": {},
   "source": [
    "\n",
    "The yield of crops depends on factors like fertilizers and water usage. A researcher wants to find conditions for \n",
    "a higher crop yield by each factor as well as with the factors grouped together."
   ]
  },
  {
   "cell_type": "code",
   "execution_count": 51,
   "id": "71f317ce",
   "metadata": {},
   "outputs": [
    {
     "name": "stdout",
     "output_type": "stream",
     "text": [
      "Overall model F( 3, 16) =  4.112, p =  0.0243\n"
     ]
    },
    {
     "data": {
      "text/html": [
       "<div>\n",
       "<style scoped>\n",
       "    .dataframe tbody tr th:only-of-type {\n",
       "        vertical-align: middle;\n",
       "    }\n",
       "\n",
       "    .dataframe tbody tr th {\n",
       "        vertical-align: top;\n",
       "    }\n",
       "\n",
       "    .dataframe thead th {\n",
       "        text-align: right;\n",
       "    }\n",
       "</style>\n",
       "<table border=\"1\" class=\"dataframe\">\n",
       "  <thead>\n",
       "    <tr style=\"text-align: right;\">\n",
       "      <th></th>\n",
       "      <th>sum_sq</th>\n",
       "      <th>df</th>\n",
       "      <th>F</th>\n",
       "      <th>PR(&gt;F)</th>\n",
       "    </tr>\n",
       "  </thead>\n",
       "  <tbody>\n",
       "    <tr>\n",
       "      <th>C(Fert)</th>\n",
       "      <td>69.192</td>\n",
       "      <td>1.0</td>\n",
       "      <td>5.766000</td>\n",
       "      <td>0.028847</td>\n",
       "    </tr>\n",
       "    <tr>\n",
       "      <th>C(Water)</th>\n",
       "      <td>63.368</td>\n",
       "      <td>1.0</td>\n",
       "      <td>5.280667</td>\n",
       "      <td>0.035386</td>\n",
       "    </tr>\n",
       "    <tr>\n",
       "      <th>C(Fert):C(Water)</th>\n",
       "      <td>15.488</td>\n",
       "      <td>1.0</td>\n",
       "      <td>1.290667</td>\n",
       "      <td>0.272656</td>\n",
       "    </tr>\n",
       "    <tr>\n",
       "      <th>Residual</th>\n",
       "      <td>192.000</td>\n",
       "      <td>16.0</td>\n",
       "      <td>NaN</td>\n",
       "      <td>NaN</td>\n",
       "    </tr>\n",
       "  </tbody>\n",
       "</table>\n",
       "</div>"
      ],
      "text/plain": [
       "                   sum_sq    df         F    PR(>F)\n",
       "C(Fert)            69.192   1.0  5.766000  0.028847\n",
       "C(Water)           63.368   1.0  5.280667  0.035386\n",
       "C(Fert):C(Water)   15.488   1.0  1.290667  0.272656\n",
       "Residual          192.000  16.0       NaN       NaN"
      ]
     },
     "execution_count": 51,
     "metadata": {},
     "output_type": "execute_result"
    }
   ],
   "source": [
    "# Import crop_yield.csv dataset\n",
    "import statsmodels.api as sm\n",
    "from statsmodels.formula.api import ols\n",
    "df_anova2 = pd.read_csv(\"Datasets/crop_yield.csv\")\n",
    "model = ols('Yield ~ C(Fert)*C(Water)', df_anova2).fit()\n",
    "print(f\"Overall model F({model.df_model: .0f},{model.df_resid: .0f}) = {model.fvalue: .3f}, p = {model.f_pvalue: .4f}\")\n",
    "res = sm.stats.anova_lm(model, typ= 2)\n",
    "res"
   ]
  },
  {
   "cell_type": "markdown",
   "id": "07f97621",
   "metadata": {},
   "source": [
    "# Partition of Variance"
   ]
  },
  {
   "cell_type": "markdown",
   "id": "accda9d6",
   "metadata": {},
   "source": [
    "Partition of variance is a statistical analysis of the distributions of two or more samples in a population. "
   ]
  },
  {
   "cell_type": "markdown",
   "id": "db7fc244",
   "metadata": {},
   "source": [
    "The figure shows the distribution of three different groups, A, B, and C from a typical population. The PDFs are marked \n",
    "in different colors for clarity. They all have mean = 20 and a standard deviation = 3. \n",
    " \n",
    "The spread in A, B, and C is between 10 and 30, and is denoted by var1. \n",
    " \n",
    "Now, compare this with the other figure. Group A, B, and C have means of 15, 20 & 25, respectively. However, the \n",
    "standard deviation for these three distributions is 3\n"
   ]
  },
  {
   "cell_type": "markdown",
   "id": "8fe7425f",
   "metadata": {},
   "source": [
    "There are similar distribution groups marked A, B, and C, but the variance range, var2, is between 5 and 35. \n",
    "\n",
    "For var1, the mean is almost the same for A, B, and C, around 20. In var2, the means for A, B, and C are approximately \n",
    "15, 20, and 25, respectively. This means that as the difference between the means of the groups varies the dispersion \n",
    "range also varies. \n",
    " \n",
    "This concept is cemented by the variance values of the groups in each case. Variance for var1 is around 8.69, and for \n",
    "var2 it is 20.68. \n",
    " \n",
    "Two recognizable components of variances are inter-group (images/within a group) and intra-group (images/between two or more groups).\n",
    "The former is also called ‘error’ or ‘residual variance’. \n",
    " \n"
   ]
  },
  {
   "cell_type": "markdown",
   "id": "c99b3e7a",
   "metadata": {},
   "source": [
    "# Partitioning"
   ]
  },
  {
   "cell_type": "markdown",
   "id": "df9bcc58",
   "metadata": {},
   "source": [
    "The sum of squares is used to indirectly partition variance.\n",
    "\n",
    "The equation for Variance is shown below: \n",
    "\n",
    "\n",
    "\\begin{gather*}  \n",
    "{\\sigma^2} = \\Sigma{(images/x – x̄)^2} / {(images/n-1)}\n",
    "\\end{gather*}\n",
    "\n",
    "\n",
    "Here the group mean, called GM, is considered.\n",
    "\n",
    "The equation for Total Sum of Squares or  ${SS_{total}}$ is shown below: \n",
    "\n",
    "\\begin{gather*} \n",
    "SS_{total} = \\Sigma{(images/x – x̄)^2} \n",
    "\\end{gather*} \n",
    "\n",
    "Similarly, the Error Sum of Squares: \n",
    "\n",
    "\\begin{gather*} \n",
    "For A, {SS_{error} = \\Sigma (images/x_A - x̄_A)^2}\n",
    "\\end{gather*}\n",
    "\n",
    "\n",
    "\\begin{gather*} \n",
    "For B, {SS_{error} = \\Sigma (images/x_B - x̄_B)^2}  \n",
    "\\end{gather*}\n",
    "\n",
    "\n",
    "\\begin{gather*} \n",
    "For C, {SS_{error} = \\Sigma (images/x_C - x̄_C)^2}\n",
    "\\end{gather*}  \n",
    "\n",
    "The  ${SS_{error}}$ = ${\\Sigma (images/x_A - x̄_A)^2}$  + ${\\Sigma (images/x_B - x̄_B)^2}$ + ${\\Sigma (images/x_C - x̄_C)^2}$\n",
    " \n",
    "The  ${SS_{total}}$ or the sum of squares between groups and the error is the difference  ${SS_{total}} -  {SS_{error}}$ \n",
    " \n",
    " \n"
   ]
  },
  {
   "cell_type": "markdown",
   "id": "85541be8",
   "metadata": {},
   "source": [
    "The F-distribution is similar to and related to χ2 distribution. the F-distribution or F-ratio, also known as Snedecor's \n",
    "F distribution or the Fisher–Snedecor distribution.\n",
    " \n",
    "F-distribution is essentially a continuous probability distribution that arises frequently as the null distribution of a \n",
    "test statistic, most notably in the analysis of variance (images/ANOVA) and other  F-Test.\n",
    " \n",
    "Unlike the chi-square distribution, F-distribution deals with multiple random variables. \n",
    " \n",
    "Consider a situation of two independent random variables, R1 and R2 that have an χ2 distribution with Degrees of \n",
    "Freedom (images/DOF) d1 and d2 respectively. The F-distribution or the F-ratio for this situation is expressed as below: \n",
    " \n",
    "F = (images/d1)/(images/d2)\n",
    " \n"
   ]
  },
  {
   "cell_type": "markdown",
   "id": "162b05c1",
   "metadata": {},
   "source": [
    "## The Probability Density Function of F-Distribution "
   ]
  },
  {
   "cell_type": "markdown",
   "id": "c04711ba",
   "metadata": {},
   "source": [
    "The probability density function for F-distribution can be computed using the below formula:"
   ]
  },
  {
   "cell_type": "markdown",
   "id": "c5537963",
   "metadata": {},
   "source": [
    "![PD_of_F.png](images/PD_of_F.png)"
   ]
  },
  {
   "cell_type": "markdown",
   "id": "a8f4f99b",
   "metadata": {},
   "source": [
    "The formula is valid for all positive values of x and the Degree of Freedom, d1 and d2. The ‘B’ in the formula represents\n",
    "the ‘beta function’. "
   ]
  },
  {
   "cell_type": "markdown",
   "id": "b83160a9",
   "metadata": {},
   "source": [
    "The figure suggests that the shape of the F-distribution curve depends on the two Degrees of Freedom, d1 and d2. "
   ]
  },
  {
   "cell_type": "markdown",
   "id": "e68e0504",
   "metadata": {},
   "source": [
    "### Description of F-distribution: \n"
   ]
  },
  {
   "cell_type": "markdown",
   "id": "393fc399",
   "metadata": {},
   "source": [
    "F-distribution is always described by stating the number of DOFs associated with the standard deviation in the \n",
    "numerator of the f statistic first. \n",
    " \n",
    "Thus, f(images/6, 8) refers to an F-distribution with $d_1 = 6 $ and $d_2 = 8$ Degrees of Freedom. Likewise, f(images/8, 6) also refers \n",
    "to an F-distribution with $d_1 = 8$ and $d_2 = 6$ degrees of freedom. \n",
    " \n",
    "<b>Note:</b> The curves represented by f(images/6, 8) and f(images/8, 6) are different from each other. \n",
    " \n"
   ]
  },
  {
   "cell_type": "markdown",
   "id": "62baeeae",
   "metadata": {},
   "source": [
    "# F-Distribution Using Python"
   ]
  },
  {
   "cell_type": "markdown",
   "id": "94eb06cf",
   "metadata": {},
   "source": [
    "A random variable\n",
    "\n",
    "$ F \\sim \\frac {\\chi_1^2/v1}{\\chi_2^2/v2} $"
   ]
  },
  {
   "cell_type": "code",
   "execution_count": 52,
   "id": "f8c2f5c4",
   "metadata": {},
   "outputs": [
    {
     "data": {
      "text/plain": [
       "<matplotlib.legend.Legend at 0x16dd18a00>"
      ]
     },
     "execution_count": 52,
     "metadata": {},
     "output_type": "execute_result"
    },
    {
     "data": {
      "image/png": "[encoded data removed]",
      "text/plain": [
       "<Figure size 1800x900 with 1 Axes>"
      ]
     },
     "metadata": {
      "needs_background": "light"
     },
     "output_type": "display_data"
    }
   ],
   "source": [
    "# Code for F-distribution\n",
    "import matplotlib.pyplot as plt\n",
    "import numpy as np\n",
    "from scipy.stats import f\n",
    "x = np.linspace(0, 4.5, 1000)   \n",
    "data_1 = f(1, 1, 0)\n",
    "data_2 = f(5,8, 0)\n",
    "data_3 = f(4, 4, 0)\n",
    "data_4 = f(100, 200, 0)\n",
    "plt.figure(figsize=(12, 6),dpi = 150)\n",
    "plt.plot(x,data_1.pdf(x), label = '1,1')\n",
    "plt.plot(x, data_2.pdf(x), label = '5,8')\n",
    "plt.plot(x, data_3.pdf(x), label = '4,4')\n",
    "plt.plot(x, data_4.pdf(x), label = '100,200')\n",
    "plt.legend()"
   ]
  },
  {
   "cell_type": "markdown",
   "id": "42ce1b13",
   "metadata": {},
   "source": [
    "$ H_0 : \\sigma_1^2 = \\sigma_2^2 $ <br>\n",
    "$ H_1 : \\sigma_1^2 \\ne \\sigma_2^2 $"
   ]
  },
  {
   "cell_type": "code",
   "execution_count": 53,
   "id": "a9ab9022",
   "metadata": {},
   "outputs": [],
   "source": [
    "import random\n",
    "random.seed(20)"
   ]
  },
  {
   "cell_type": "code",
   "execution_count": 54,
   "id": "d8d42462",
   "metadata": {},
   "outputs": [],
   "source": [
    "# Generate data with same std\n",
    "x = np.array([random.gauss(100,15) for x in range(20)])\n",
    "y = np.array([random.gauss(100,15) for x in range(20)])"
   ]
  },
  {
   "cell_type": "code",
   "execution_count": 55,
   "id": "0754a357",
   "metadata": {},
   "outputs": [],
   "source": [
    "# Calculate f_test_statistic\n",
    "f_test_stat = np.var(x,ddof=1) / np.var(y,ddof = 1)"
   ]
  },
  {
   "cell_type": "code",
   "execution_count": 56,
   "id": "0721528e",
   "metadata": {},
   "outputs": [],
   "source": [
    "dfn = x.size - 1\n",
    "dfd = y.size - 1"
   ]
  },
  {
   "cell_type": "code",
   "execution_count": 57,
   "id": "8290f668",
   "metadata": {},
   "outputs": [],
   "source": [
    "# Calculate p value\n",
    "p_value = 1 - f.cdf(f_test_stat,dfn,dfd)"
   ]
  },
  {
   "cell_type": "code",
   "execution_count": 58,
   "id": "c744ff09",
   "metadata": {},
   "outputs": [
    {
     "data": {
      "text/plain": [
       "0.027388728443720423"
      ]
     },
     "execution_count": 58,
     "metadata": {},
     "output_type": "execute_result"
    }
   ],
   "source": [
    "p_value"
   ]
  },
  {
   "cell_type": "markdown",
   "id": "5ce41ccd",
   "metadata": {},
   "source": [
    "p_value < 0.05 | Reject the Null Hypothesis | Variance is same"
   ]
  },
  {
   "cell_type": "code",
   "execution_count": 59,
   "id": "ed0afb88",
   "metadata": {},
   "outputs": [],
   "source": [
    "x = np.array([random.gauss(100,15) for x in range(20)])\n",
    "y = np.array([random.gauss(200,15) for x in range(20)])"
   ]
  },
  {
   "cell_type": "code",
   "execution_count": 60,
   "id": "12097040",
   "metadata": {},
   "outputs": [],
   "source": [
    "f_test_stat = np.var(x,ddof=1) / np.var(y,ddof = 1)\n",
    "dfn = x.size - 1\n",
    "dfd = y.size - 1\n",
    "p_value = 1 - f.cdf(f_test_stat,dfn,dfd)"
   ]
  },
  {
   "cell_type": "code",
   "execution_count": 61,
   "id": "979ac324",
   "metadata": {},
   "outputs": [
    {
     "data": {
      "text/plain": [
       "0.6890214865041779"
      ]
     },
     "execution_count": 61,
     "metadata": {},
     "output_type": "execute_result"
    }
   ],
   "source": [
    "p_value"
   ]
  },
  {
   "cell_type": "markdown",
   "id": "831d91b5",
   "metadata": {},
   "source": [
    "p_value > 0.05 | Accept Null Hypothesis | Variance is not same"
   ]
  },
  {
   "cell_type": "markdown",
   "id": "db406d61",
   "metadata": {},
   "source": [
    "## F-Test "
   ]
  },
  {
   "cell_type": "markdown",
   "id": "1d683429",
   "metadata": {},
   "source": [
    "F-Test is any statistical test where the test statistic has an F-distribution under the null hypothesis. It is \n",
    "mostly used when comparing statistical models fitted to a data set and identifying the model that best fits the \n",
    "population from which the data were sampled.\n",
    "\n",
    "F-Test always implies the comparison of two variances. It resembles ANOVA. \n",
    " \n",
    "\n",
    "\n",
    "\n"
   ]
  },
  {
   "cell_type": "markdown",
   "id": "b6857067",
   "metadata": {},
   "source": [
    "### Comparing Two Variances"
   ]
  },
  {
   "cell_type": "markdown",
   "id": "a1eafa8a",
   "metadata": {},
   "source": [
    "The F Test compares two variances, $s_1$ and $s_2$, by calculating their ratio. The result is always positive, as \n",
    "variances are always positive. \n",
    " \n",
    "The equation for the F-Test is shown below:\n",
    "\\begin{gather*} \n",
    "F = {s_1}^2 / {s_2}^2\n",
    "\\end{gather*} \n",
    " \n",
    "When the variances are equal, their ratio is 1. \n"
   ]
  },
  {
   "cell_type": "markdown",
   "id": "fa9fe5ba",
   "metadata": {},
   "source": [
    "<b>Example:</b>\n",
    "\n",
    "If two data sets are available with sample 1 (images/images/variance of 8) and sample 2 (images/images/variance of 8), the ratio would be 10/10 = 1. \n",
    " \n",
    "As a thumb rule, It is required to test whether the population variances are equal when running an F-Test. In other words,\n",
    "if the samples are from the same population, the variances are 1. Then the null hypothesis will always be that the \n",
    "variances are equal. \n",
    " \n"
   ]
  },
  {
   "cell_type": "markdown",
   "id": "04eccf7c",
   "metadata": {},
   "source": [
    "## Assumptions for F-Test"
   ]
  },
  {
   "cell_type": "markdown",
   "id": "e5d3a254",
   "metadata": {},
   "source": [
    "1. The population distribution must be approximately fitting to the normal distribution (images/it should resemble a bell curve). \n",
    "\n",
    "2. The samples must be independent of each other.\n",
    "\n",
    "3. The larger variance is always in the numerator, to force the test into a right-tailed test. Right-tailed tests \n",
    "   are easier to compute. \n",
    "    \n",
    "4. For two-tailed tests, alpha is to be taken at half-of-its value before finding the right critical value. \n",
    "\n",
    "5. If the standard deviations are available, square them to get the value of variances. \n",
    "\n",
    "6. If the degrees of freedom aren’t available in the F Table, use the larger critical value to avoid Type I errors. \n",
    " \n"
   ]
  },
  {
   "cell_type": "markdown",
   "id": "67a003f8",
   "metadata": {},
   "source": [
    "## Steps to Perform F-Test "
   ]
  },
  {
   "cell_type": "markdown",
   "id": "b3a51909",
   "metadata": {},
   "source": [
    "There are four simple steps for performing an F-Test: \n",
    " \n",
    "\n",
    "Step 1. State the Null Hypothesis and Alternate Hypothesis\n",
    "\n",
    "Step 2. Coimages/mpute the F-value using the residual suimages/m of squares, nuimages/mber of restrictions(images/m) and nuimages/mber of independent variables(images/k) \n",
    "\n",
    "<center><b>Formula: F = (images/ m) / (images/ n-k)</b></center>\n",
    "\n",
    "Step 3. Find the F-statistic, the critical value \n",
    "\n",
    "<center><b>F-statistic = (images/variance  of  the  group  means) / (images/mean  of  the  within  group  variances)</b></center>\n",
    "\n",
    "Step 4. Based on the results, support or reject the null hypothesis \n",
    " \n"
   ]
  },
  {
   "cell_type": "markdown",
   "id": "e6ea02aa",
   "metadata": {},
   "source": [
    "<b>Note:</b> F-critical is calculated using the F-table, degree of freedoms and Significance level.If observed value \n",
    "of F is greater than the F-critical value then we reject the null hypothesis.\n"
   ]
  },
  {
   "cell_type": "markdown",
   "id": "46d69124",
   "metadata": {},
   "source": [
    "# Use Case: Determine the Percentage of Defective User Data"
   ]
  },
  {
   "cell_type": "markdown",
   "id": "04bbd85b",
   "metadata": {},
   "source": [
    "### Problem Statement:"
   ]
  },
  {
   "cell_type": "markdown",
   "id": "fda7e56f",
   "metadata": {},
   "source": [
    "TeleCall uses four centers around the globe to process customer order forms. They audit a certain percentage of the \n",
    "customer order forms. Any error in order form renders it defective and has to be reworked before processing. The manager\n",
    "wants to check whether the defective percentage varies by centre. Analyze the data at 5% significance level and help \n",
    "the manager draw appropriate inferences"
   ]
  },
  {
   "cell_type": "markdown",
   "id": "95367d1b",
   "metadata": {},
   "source": [
    "### Dataset:"
   ]
  },
  {
   "cell_type": "markdown",
   "id": "5a45e7da",
   "metadata": {},
   "source": [
    "**Dimensions:**\n",
    "* 4 variables\n",
    "* 300 observations\n"
   ]
  },
  {
   "cell_type": "markdown",
   "id": "9e5ebdf8",
   "metadata": {},
   "source": [
    "#### Attribute Information:"
   ]
  },
  {
   "cell_type": "markdown",
   "id": "419377da",
   "metadata": {},
   "source": [
    "The dataset contains data from four different locations of accurate and erroneous user data."
   ]
  },
  {
   "cell_type": "code",
   "execution_count": 62,
   "id": "8d4c66f1",
   "metadata": {},
   "outputs": [
    {
     "data": {
      "text/html": [
       "<div>\n",
       "<style scoped>\n",
       "    .dataframe tbody tr th:only-of-type {\n",
       "        vertical-align: middle;\n",
       "    }\n",
       "\n",
       "    .dataframe tbody tr th {\n",
       "        vertical-align: top;\n",
       "    }\n",
       "\n",
       "    .dataframe thead th {\n",
       "        text-align: right;\n",
       "    }\n",
       "</style>\n",
       "<table border=\"1\" class=\"dataframe\">\n",
       "  <thead>\n",
       "    <tr style=\"text-align: right;\">\n",
       "      <th></th>\n",
       "      <th>Phillippines</th>\n",
       "      <th>Indonesia</th>\n",
       "      <th>Malta</th>\n",
       "      <th>India</th>\n",
       "    </tr>\n",
       "  </thead>\n",
       "  <tbody>\n",
       "    <tr>\n",
       "      <th>0</th>\n",
       "      <td>Error Free</td>\n",
       "      <td>Error Free</td>\n",
       "      <td>Defective</td>\n",
       "      <td>Error Free</td>\n",
       "    </tr>\n",
       "    <tr>\n",
       "      <th>1</th>\n",
       "      <td>Error Free</td>\n",
       "      <td>Error Free</td>\n",
       "      <td>Error Free</td>\n",
       "      <td>Defective</td>\n",
       "    </tr>\n",
       "    <tr>\n",
       "      <th>2</th>\n",
       "      <td>Error Free</td>\n",
       "      <td>Defective</td>\n",
       "      <td>Defective</td>\n",
       "      <td>Error Free</td>\n",
       "    </tr>\n",
       "    <tr>\n",
       "      <th>3</th>\n",
       "      <td>Error Free</td>\n",
       "      <td>Error Free</td>\n",
       "      <td>Error Free</td>\n",
       "      <td>Error Free</td>\n",
       "    </tr>\n",
       "    <tr>\n",
       "      <th>4</th>\n",
       "      <td>Error Free</td>\n",
       "      <td>Error Free</td>\n",
       "      <td>Defective</td>\n",
       "      <td>Error Free</td>\n",
       "    </tr>\n",
       "  </tbody>\n",
       "</table>\n",
       "</div>"
      ],
      "text/plain": [
       "  Phillippines   Indonesia       Malta       India\n",
       "0   Error Free  Error Free   Defective  Error Free\n",
       "1   Error Free  Error Free  Error Free   Defective\n",
       "2   Error Free   Defective   Defective  Error Free\n",
       "3   Error Free  Error Free  Error Free  Error Free\n",
       "4   Error Free  Error Free   Defective  Error Free"
      ]
     },
     "execution_count": 62,
     "metadata": {},
     "output_type": "execute_result"
    }
   ],
   "source": [
    "customer = pd.read_csv('Datasets/Customer+OrderForm.csv')\n",
    "customer.head()"
   ]
  },
  {
   "cell_type": "code",
   "execution_count": 63,
   "id": "4f816399",
   "metadata": {},
   "outputs": [
    {
     "data": {
      "text/html": [
       "<div>\n",
       "<style scoped>\n",
       "    .dataframe tbody tr th:only-of-type {\n",
       "        vertical-align: middle;\n",
       "    }\n",
       "\n",
       "    .dataframe tbody tr th {\n",
       "        vertical-align: top;\n",
       "    }\n",
       "\n",
       "    .dataframe thead th {\n",
       "        text-align: right;\n",
       "    }\n",
       "</style>\n",
       "<table border=\"1\" class=\"dataframe\">\n",
       "  <thead>\n",
       "    <tr style=\"text-align: right;\">\n",
       "      <th></th>\n",
       "      <th>Phillippines</th>\n",
       "      <th>Indonesia</th>\n",
       "      <th>Malta</th>\n",
       "      <th>India</th>\n",
       "    </tr>\n",
       "  </thead>\n",
       "  <tbody>\n",
       "    <tr>\n",
       "      <th>count</th>\n",
       "      <td>300</td>\n",
       "      <td>300</td>\n",
       "      <td>300</td>\n",
       "      <td>300</td>\n",
       "    </tr>\n",
       "    <tr>\n",
       "      <th>unique</th>\n",
       "      <td>2</td>\n",
       "      <td>2</td>\n",
       "      <td>2</td>\n",
       "      <td>2</td>\n",
       "    </tr>\n",
       "    <tr>\n",
       "      <th>top</th>\n",
       "      <td>Error Free</td>\n",
       "      <td>Error Free</td>\n",
       "      <td>Error Free</td>\n",
       "      <td>Error Free</td>\n",
       "    </tr>\n",
       "    <tr>\n",
       "      <th>freq</th>\n",
       "      <td>271</td>\n",
       "      <td>267</td>\n",
       "      <td>269</td>\n",
       "      <td>280</td>\n",
       "    </tr>\n",
       "  </tbody>\n",
       "</table>\n",
       "</div>"
      ],
      "text/plain": [
       "       Phillippines   Indonesia       Malta       India\n",
       "count           300         300         300         300\n",
       "unique            2           2           2           2\n",
       "top      Error Free  Error Free  Error Free  Error Free\n",
       "freq            271         267         269         280"
      ]
     },
     "execution_count": 63,
     "metadata": {},
     "output_type": "execute_result"
    }
   ],
   "source": [
    "customer.describe()"
   ]
  },
  {
   "cell_type": "code",
   "execution_count": 64,
   "id": "32cf3be0",
   "metadata": {},
   "outputs": [
    {
     "name": "stdout",
     "output_type": "stream",
     "text": [
      "Error Free    271\n",
      "Defective      29\n",
      "Name: Phillippines, dtype: int64\n",
      "Error Free    267\n",
      "Defective      33\n",
      "Name: Indonesia, dtype: int64\n",
      "Error Free    269\n",
      "Defective      31\n",
      "Name: Malta, dtype: int64\n",
      "Error Free    280\n",
      "Defective      20\n",
      "Name: India, dtype: int64\n"
     ]
    }
   ],
   "source": [
    "Phillippines_value=customer['Phillippines'].value_counts()\n",
    "Indonesia_value=customer['Indonesia'].value_counts()\n",
    "Malta_value=customer['Malta'].value_counts()\n",
    "India_value=customer['India'].value_counts()\n",
    "print(Phillippines_value)\n",
    "print(Indonesia_value)\n",
    "print(Malta_value)\n",
    "print(India_value)"
   ]
  },
  {
   "cell_type": "markdown",
   "id": "9474b958",
   "metadata": {},
   "source": [
    "Based on the Error Free value and Defective value we will use chi-square Test"
   ]
  },
  {
   "cell_type": "code",
   "execution_count": 65,
   "id": "c2b365b2",
   "metadata": {},
   "outputs": [
    {
     "name": "stdout",
     "output_type": "stream",
     "text": [
      "T value is:  3.858960685820355\n",
      "P value is:  0.2771020991233135\n"
     ]
    }
   ],
   "source": [
    "chiStats = sp.stats.chi2_contingency([[271,267,269,280],[29,33,31,20]])\n",
    "print('T value is: ',chiStats[0])\n",
    "print('P value is: ',chiStats[1])"
   ]
  },
  {
   "cell_type": "code",
   "execution_count": 66,
   "id": "8defaac5",
   "metadata": {},
   "outputs": [
    {
     "name": "stdout",
     "output_type": "stream",
     "text": [
      "We accept Null Hypothesis\n"
     ]
    }
   ],
   "source": [
    "if chiStats[1] < 0.05:\n",
    "    print('We reject Null Hypothesis')\n",
    "else:\n",
    "    print('We accept Null Hypothesis')"
   ]
  },
  {
   "cell_type": "markdown",
   "id": "2a67f310",
   "metadata": {},
   "source": [
    "Since variables are not rejected hence, we cannot reject null hypothesis.\n",
    "Also, the proportion of defective percentage across the TeleCall center is same."
   ]
  },
  {
   "cell_type": "code",
   "execution_count": 67,
   "id": "7a1c8b3d",
   "metadata": {},
   "outputs": [
    {
     "name": "stdout",
     "output_type": "stream",
     "text": [
      "Kruskal-Wallis statistic: 57.17522657807319\n",
      "P-value: 3.8419994449833086e-13\n"
     ]
    }
   ],
   "source": [
    "import numpy as np\n",
    "from scipy.stats import kruskal\n",
    "\n",
    "# Set the random seed for reproducibility\n",
    "np.random.seed(42)\n",
    "\n",
    "# Generate random data for three groups\n",
    "group1 = np.random.normal(loc=0, scale=1, size=100)\n",
    "group2 = np.random.normal(loc=0.5, scale=1, size=100)\n",
    "group3 = np.random.normal(loc=1, scale=1, size=100)\n",
    "\n",
    "# Combine the data into a single array\n",
    "data = np.concatenate([group1, group2, group3])\n",
    "\n",
    "# Generate corresponding group labels\n",
    "labels = np.array(['group1'] * len(group1) + ['group2'] * len(group2) + ['group3'] * len(group3))\n",
    "\n",
    "# Apply the Kruskal-Wallis test\n",
    "statistic, p_value = kruskal(group1, group2, group3)\n",
    "\n",
    "# Print the results\n",
    "print(f\"Kruskal-Wallis statistic: {statistic}\")\n",
    "print(f\"P-value: {p_value}\")\n"
   ]
  },
  {
   "cell_type": "markdown",
   "id": "d303ee54",
   "metadata": {},
   "source": [
    "### Covariance and Correlation"
   ]
  },
  {
   "cell_type": "markdown",
   "id": "b7cfb1b0",
   "metadata": {},
   "source": [
    "Covariance and correlation measure the relationship and dependency between two variables. While covariance gives \n",
    "the direction of the linear relationship, correlation gives both direction and strength. Therefore, correlation is \n",
    "a function of covariance. Furthermore, correlation values are standardized while covariance values are not.  "
   ]
  },
  {
   "cell_type": "markdown",
   "id": "02544c9c",
   "metadata": {},
   "source": [
    "### Covariance"
   ]
  },
  {
   "cell_type": "markdown",
   "id": "54e5c238",
   "metadata": {},
   "source": [
    " The covariance of x and y can be represented with the following equation:"
   ]
  },
  {
   "cell_type": "markdown",
   "id": "e5c378f1",
   "metadata": {},
   "source": [
    "![cov.PNG](images/cov.PNG)"
   ]
  },
  {
   "cell_type": "markdown",
   "id": "149acac6",
   "metadata": {},
   "source": [
    "### Covariance Formula for Population"
   ]
  },
  {
   "cell_type": "markdown",
   "id": "526118c7",
   "metadata": {},
   "source": [
    "![covpopu.PNG](images/covpopu.PNG)"
   ]
  },
  {
   "cell_type": "markdown",
   "id": "e7959b7a",
   "metadata": {},
   "source": [
    "### Covariance Formula for Sample"
   ]
  },
  {
   "cell_type": "markdown",
   "id": "945a5bb0",
   "metadata": {},
   "source": [
    "![covsample.PNG](images/covsample.PNG)"
   ]
  },
  {
   "cell_type": "markdown",
   "id": "22a1e4ca",
   "metadata": {},
   "source": [
    "Where:\n",
    "\n",
    "$x_i$ is the $i^{th}$ observation in variable x\n",
    "\n",
    "$\\bar{x}$ is the mean for variable x\n",
    "\n",
    "$y_i$ is the $i^{th}$ observation in variable y\n",
    "\n",
    "$\\bar{y}$ is the mean for variable y\n",
    "\n",
    "N is the number of observations"
   ]
  },
  {
   "cell_type": "code",
   "execution_count": 68,
   "id": "0f270560",
   "metadata": {},
   "outputs": [],
   "source": [
    "# Python implementation of the covariance of two variables"
   ]
  },
  {
   "cell_type": "code",
   "execution_count": 69,
   "id": "fad51f43",
   "metadata": {},
   "outputs": [
    {
     "name": "stdout",
     "output_type": "stream",
     "text": [
      "           X    Y     Z\n",
      "X  10.666667 -0.8   5.0\n",
      "Y  -0.800000  4.3  -3.5\n",
      "Z   5.000000 -3.5  11.5\n"
     ]
    }
   ],
   "source": [
    "import pandas as pd\n",
    "df = pd.DataFrame({\"X\":[0, 1, 2, 3, 5, 9],  \n",
    "                   \"Y\":[11, 5, 8, 6, 7, 8], \n",
    "                   \"Z\":[2, 5, 10, 11, 9, 8]}) \n",
    "print(df.cov())"
   ]
  },
  {
   "cell_type": "markdown",
   "id": "87b1cbf6",
   "metadata": {},
   "source": [
    "The positive value denotes that both the variables move in the same direction."
   ]
  },
  {
   "cell_type": "markdown",
   "id": "37f05e68",
   "metadata": {},
   "source": [
    "### Correlation"
   ]
  },
  {
   "cell_type": "markdown",
   "id": "21119ba5",
   "metadata": {},
   "source": [
    "Correlation coefficient is also called the Pearson correlation coefficient.  \n",
    "\n",
    "The correlation coefficient of two variables by dividing their covariance with the product of their individual standard \n",
    "deviations. Since the standard deviation measures the absolute variability of the distribution, this division ensures \n",
    "that the correlation coefficient scales down to the -1 to +1 range. "
   ]
  },
  {
   "cell_type": "markdown",
   "id": "64317866",
   "metadata": {},
   "source": [
    "### Formula for Correlation Coefficient"
   ]
  },
  {
   "cell_type": "markdown",
   "id": "7e40273b",
   "metadata": {},
   "source": [
    "![corelation.PNG](images/corelation.PNG)"
   ]
  },
  {
   "cell_type": "markdown",
   "id": "a76bdf78",
   "metadata": {},
   "source": [
    "Where:\n",
    "    \n",
    "$S_x$, $S_y$ are standard deviations of x and y respectively. \n",
    "\n"
   ]
  },
  {
   "cell_type": "code",
   "execution_count": 70,
   "id": "544219fd",
   "metadata": {},
   "outputs": [
    {
     "name": "stdout",
     "output_type": "stream",
     "text": [
      "          X         Y         Z\n",
      "X  1.000000 -0.118125  0.451447\n",
      "Y -0.118125  1.000000 -0.497720\n",
      "Z  0.451447 -0.497720  1.000000\n"
     ]
    }
   ],
   "source": [
    "import pandas as pd\n",
    "df = pd.DataFrame({\"X\":[0, 1, 2, 3, 5, 9],  \n",
    "                   \"Y\":[11, 5, 8, 6, 7, 8], \n",
    "                   \"Z\":[2, 5, 10, 11, 9, 8]}) \n",
    "print(df.corr())"
   ]
  },
  {
   "cell_type": "markdown",
   "id": "1faf6b6a",
   "metadata": {},
   "source": [
    "The closer it is to -1 or 1, the higher the correlation. \n",
    "\n",
    "A positive correlation coefficient implies that when one variable increases, the other also increases, and vice versa. "
   ]
  },
  {
   "cell_type": "markdown",
   "id": "14ed5bc9",
   "metadata": {},
   "source": [
    "**Note:** Pearson, Kendall and Spearman correlation are currently computed using pairwise complete observations."
   ]
  },
  {
   "cell_type": "code",
   "execution_count": null,
   "id": "0364e3dd",
   "metadata": {},
   "outputs": [],
   "source": []
  },
  {
   "cell_type": "code",
   "execution_count": null,
   "id": "4467567d",
   "metadata": {},
   "outputs": [],
   "source": []
  }
 ],
 "metadata": {
  "kernelspec": {
   "display_name": "Python 3 (ipykernel)",
   "language": "python",
   "name": "python3"
  },
  "language_info": {
   "codemirror_mode": {
    "name": "ipython",
    "version": 3
   },
   "file_extension": ".py",
   "mimetype": "text/x-python",
   "name": "python",
   "nbconvert_exporter": "python",
   "pygments_lexer": "ipython3",
   "version": "3.9.10"
  }
 },
 "nbformat": 4,
 "nbformat_minor": 5
}
